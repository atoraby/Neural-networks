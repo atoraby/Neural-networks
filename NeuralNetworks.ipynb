{
 "cells": [
  {
   "cell_type": "markdown",
   "metadata": {},
   "source": [
    "# Machine learning\n",
    "\n",
    "## Probabilistic modeling\n",
    "Probabilistic modeling is the application of the principles of statistics to data analysis. It is one of the earliest forms of machine learning, and it’s still widely used to this day. One of the best-known algorithms in this category is the Naive Bayes algorithm.\n",
    "\n",
    "Logistic regression is the other statistic tool which is still popular these days.\n",
    "\n",
    "## Kernel methods\n",
    "Kernel methods are a group of classification algorithms, the best known of which is the Support Vector Machine (SVM).\n",
    "At the time they were developed, SVMs exhibited state-of-the-art performance on simple classification problems and were one of the few machine learning methods backed by extensive theory and amenable to serious mathematical analysis, making them well understood and easily interpretable. Because of these useful properties, SVMs became extremely popular in the field for a long time.\n",
    "\n",
    "But SVMs proved hard to scale to large datasets and didn’t provide good results for perceptual problems such as image classification. Because an SVM is a shallow method, applying an SVM to perceptual problems requires first extracting useful representations manually (a step called feature engineering), which is difficult and brittle. For instance, if you want to use an SVM to classify handwritten digits, you can’t start from the raw pixels; you should first find by hand useful representations that make the problem more tractable, like the pixel histograms mentioned earlier.\n",
    "\n",
    "## Decision trees, random forests, and gradient boosting machines\n",
    "Decision trees are flowchart-like structures that let you classify input data points or predict output values given inputs. They’re easy to visualize and interpret. Decision trees learned from data began to receive significant research interest in the 2000s, and by 2010 they were often preferred to kernel methods.\n",
    "\n",
    "The Random Forest algorithm introduced a robust, practical take on decision-tree learning that involves building a large number of specialized decision trees and then ensembling their outputs. Random forests are applicable to a wide range of problems—you could say that they’re almost always the second-best algorithm for any shallow machine learning task.\n",
    "\n",
    "The gradient boosting technique results in models that strictly outperform random forests most of the time, while having similar properties. It may be one of the best, if not the best, algorithm for dealing with nonperceptual data today.\n",
    "\n",
    "## Deep learning\n",
    "Deep learning is a specific subset of machine learning. It puts and an emphasis on learning successive layers of increasingly meaningful representations of the data. In deep learning the learning is done by a stack of neural network layers that are attached on the top of each other that try to represent the data in a form that is amenable for simple rules to make the final decisions.\n",
    "\n",
    "<h3>What makes deep learning different</h3>\n",
    "The primary reason deep learning took off so quickly is that it offered better performance for many problems. But that’s not the only reason. Deep learning also makes problem-solving much easier, because it completely automatesfeature engineering which used to be the most crucial step in a machine learning workflow before deep learning.\n",
    "\n",
    "For example, when we use neural netowrks for image processing, each layer transforms the input image to a form that is increasingly different from the original input image and more pure and informative about the final result. \n",
    "\n",
    "<img src=\"images/deep_learning.png\" width=\"50%\">\n",
    "\n",
    "The above picture illustrates that classifing hand written digits can be done by four simple rules using the last layer of a neural network, while a rule-based system may need hundreds of rules to classify digits based on the original image.\n",
    "\n",
    "These layers have been named in literature:\n",
    "\n",
    "1.   Input layer: The first layer is called the input layer. The number of nodes in the input layer is rela†ed to the number of the features in our dataset.\n",
    "2.   Output layer: The final layer is called the output layer. this layer may have only one node which indicates the final out put. For example a range between 0 and 1. If the final value is close to 0 the predicted label is 0 and if it is close to 1 the second label is seleted as a result. It can also include more than one node. For example, 6 nodes for the 6 corresponding lables in a dataset. Each one have a value between 0 and 1 that indicates the probability of that label. \n",
    "3. Headen layers: The layers that we do not observe.\n",
    "\n",
    "<h4>Weights</h4>\n",
    "As we said, each layer does a transformation, this transformation is implemented by the weights of each layer. weights are a bunch of numbers and sometimes are called layer parameters.\n",
    "\n",
    "<h4>Learning (Training)</h4>\n",
    "Learning means finding the best values of the weights, such that the network correctly maps the input to their associated targets.\n",
    "\n",
    "There are two essential characteristics of how deep learning learns from data: the incremental, layer-by-layer way in which increasingly complex representations are developed, and the fact that these intermediate incremental representations are learned jointly, each layer being updated to follow both the representational needs of the layer above and the needs of the layer below. Together, these two properties have made deep learning vastly more successful than previous approaches to machine learning.\n",
    "\n",
    "<h4>Loss function</h4>\n",
    "To evaluate the network and figure out how well it maps the input to output we need a loss function! This is the role of the loss function to calculate har far the final result is from the expected result. This is sometimes called cost function or objective function.\n",
    "\n",
    "<h4>optimizer</h4>\n",
    "During the learning process, the nework guesses the output, the loss function calculates the distance of the output from the expcted output. Then we give the current weights and the loss score to an optimizer that is responsible for adjusting the weights with the aim of reducing the loss in the next run of the network. \n",
    "\n",
    "<h4>Backpropagation</h4>\n",
    "This is the central algorithm in deep learning. The optimiser uses bakpropagation algorithm to adjust the weights of the network layers.\n",
    "\n",
    "\n",
    "<h4>Overview of the deep learning</h4>\n",
    "Initially, the weights of the network are assigned random values, so the network merely implements a series of random transformations. Naturally, its output is far from what it should ideally be, and the loss score is accordingly very high. But with every example the network processes, the weights are adjusted a little in the correct direction, and the loss score decreases. This is the training loop, which, repeated a suffi- cient number of times (typically tens of iterations over thousands of examples), yields weight values that minimize the loss function. A network with a minimal loss is one for which the outputs are as close as they can be to the targets: a trained network. Once again, it’s a simple mechanism that, once scaled, ends up looking like magic.\n",
    "\n"
   ]
  },
  {
   "cell_type": "markdown",
   "metadata": {},
   "source": [
    "# Neural networks\n",
    "\n",
    "<h3>Training</h3>\n",
    "\n",
    "Repeat these steps in a loop, until the loss seems sufficiently low:\n",
    "\n",
    "1.  Draw a batch of training samples, x, and corresponding targets, y_true.\n",
    "2. Run the model on x (a step called the forward pass) to obtain predictions, y_pred.\n",
    "3. Compute the loss of the model on the batch, a measure of the mismatch between y_pred and y_true.\n",
    "4. Update all weights of the model in a way that slightly reduces the loss on this\n",
    "batch.\n",
    "\n",
    "Steps 1 to 3 are sinple. What is difficult is the step 4. how can you compute whether the coefficient should be increased or decreased, and by how much?\n",
    "\n",
    "One naive solution would be to freeze all weights in the model except the one sca- lar coefficient being considered, and try different values for this coefficient. Let’s say the initial value of the coefficient is 0.3. After the forward pass on a batch of data, the loss of the model on the batch is 0.5. If you change the coefficient’s value to 0.35 and rerun the forward pass, the loss increases to 0.6. But if you lower the coefficient to 0.25, the loss falls to 0.4. In this case, it seems that updating the coefficient by –0.05 would contribute to minimizing the loss. This would have to be repeated for all coeffi- cients in the model.\n",
    "\n",
    "But such an approach would be horribly inefficient, because you’d need to com- pute two forward passes (which are expensive) for every individual coefficient (of which there are many, usually thousands and sometimes up to millions). Thankfully, there’s a much better approach: gradient descent.\n",
    "Gradient descent is the optimization technique that powers modern neural net- works. Here’s the gist of it. All of the functions used in our models (such as dot or +) transform their input in a smooth and continuous way: if you look at z = x + y, for instance, a small change in y only results in a small change in z, and if you know the direction of the change in y, you can infer the direction of the change in z. Mathemat- ically, you’d say these functions are differentiable. If you chain together such functions, the bigger function you obtain is still differentiable. In particular, this applies to the function that maps the model’s coefficients to the loss of the model on a batch of data: a small change in the model’s coefficients results in a small, predictable change in the loss value. This enables you to use a mathematical operator called the gradient to describe how the loss varies as you move the model’s coefficients in different direc- tions. If you compute this gradient, you can use it to move the coefficients (all at once in a single update, rather than one at a time) in a direction that decreases the loss.\n",
    "    \n",
    "\n",
    "\n",
    "## Densely connected Neural network (DNN)\n",
    "\n",
    "In a densely connected neural netweork each node in a layer is connected to all nodes in the previous layer.\n",
    "\n",
    "<img src=\"images/nn.png\" width=\"50%\" />\n",
    "\n",
    "Neural network has a linear function and an activation function. The linear function calculates the input value of the nodes, and activation function calculates the out value of the nodes to the next layer.\n",
    "\n",
    "<img src=\"images/node.png\" width=\"30%\" />\n",
    "\n",
    "The b is a constant called the bias. This bias is added to the weighted sum of the all values from the previous layer. The activation function uses this value to activte the next layer. \n",
    "\n",
    "There are many activation functions with different features.\n",
    "\n",
    "\n",
    "<div style=\"margin-top:1em; display: grid; grid-template-columns: 1fr 1fr; gap: 1em;\">\n",
    "\n",
    " <div>\n",
    "  <img src=\"images/uler.png\" width=\"50%\" />\n",
    "  <p>For example, the following is called Rectified linear function:</p>\n",
    " </div>\n",
    "\n",
    " <div>\n",
    "  <img src=\"images/sigmoid.png\" width=\"50%\" />\n",
    "  <p>However, the sigmoid function is more famous. This very useful when we need our final output to be between 0 and 1.</p>\n",
    " </div>\n",
    "\n",
    "</div>\n"
   ]
  },
  {
   "cell_type": "markdown",
   "metadata": {},
   "source": [
    "## Loss function\n",
    "\n",
    "\n",
    "1.   Mean squared error\n",
    "2.   Mean absolute error\n",
    "3.   Hinge Loss\n",
    "\n"
   ]
  },
  {
   "cell_type": "markdown",
   "metadata": {},
   "source": [
    "## Optimizers\n",
    "\n",
    "Optimizer is a function that defines how to change the wieghts and learning rate of your neural network to reduce the losses. Optimization algorithms or strategies are responsible for reducing the losses and to provide the most accurate results possible.\n",
    "\n",
    "There are different optimizers. Gradient descent, stochastic gradient descent, adagrad and so. However, the best optimizer is called adam.\n",
    "\n",
    "\n"
   ]
  },
  {
   "cell_type": "markdown",
   "metadata": {},
   "source": [
    "# Naive deep classifier\n",
    "\n",
    "In this chapter we learn how to create a naive deep learner.\n"
   ]
  },
  {
   "cell_type": "markdown",
   "metadata": {},
   "source": [
    "# keras \n",
    "\n",
    "Keras is an API that sits on top of Google’s TensorFlow, Microsoft Cognitive Toolkit (CNTK), and other machine learning frameworks. The goal is to have a single API to work with all of those and to make that work easier."
   ]
  },
  {
   "cell_type": "code",
   "execution_count": 1,
   "metadata": {},
   "outputs": [],
   "source": [
    "import pandas as pd\n",
    "import tensorflow as tf\n",
    "import numpy as np\n",
    "import matplotlib.pyplot as plt"
   ]
  },
  {
   "cell_type": "markdown",
   "metadata": {},
   "source": [
    "In Keras we have some data sets that can be used to train neural networks. For example mnist data set."
   ]
  },
  {
   "cell_type": "code",
   "execution_count": 4,
   "metadata": {},
   "outputs": [],
   "source": [
    "fashion_mnist = tf.keras.datasets.fashion_mnist\n",
    "(train_images,train_labels),(test_images, test_labels)=fashion_mnist.load_data()"
   ]
  },
  {
   "cell_type": "markdown",
   "metadata": {},
   "source": [
    "This dataset has 60000 images for traning and 10000 images for testing. Each image is a matrix of 28 x 28 pixels"
   ]
  },
  {
   "cell_type": "code",
   "execution_count": 5,
   "metadata": {},
   "outputs": [
    {
     "name": "stdout",
     "output_type": "stream",
     "text": [
      "(10000, 28, 28)\n",
      "(60000, 28, 28)\n"
     ]
    }
   ],
   "source": [
    "print(test_images.shape)\n",
    "print(train_images.shape)"
   ]
  },
  {
   "cell_type": "markdown",
   "metadata": {},
   "source": [
    "The images have different labels. Here is the list of label names:"
   ]
  },
  {
   "cell_type": "code",
   "execution_count": 6,
   "metadata": {},
   "outputs": [],
   "source": [
    "labels = ['T-shirt/top', 'Trouser', 'Pullover', 'Dress', 'Coat', 'Sandal', 'Shirt', 'Sneaker', 'Bag', 'Ankle boot']"
   ]
  },
  {
   "cell_type": "code",
   "execution_count": 7,
   "metadata": {},
   "outputs": [
    {
     "data": {
      "text/plain": [
       "<matplotlib.image.AxesImage at 0x1390a4a00>"
      ]
     },
     "execution_count": 7,
     "metadata": {},
     "output_type": "execute_result"
    },
    {
     "data": {
      "image/png": "[encoded data removed]",
      "text/plain": [
       "<Figure size 500x500 with 3 Axes>"
      ]
     },
     "metadata": {},
     "output_type": "display_data"
    }
   ],
   "source": [
    "sample1 = train_images[0]\n",
    "sample2 = train_images[1]\n",
    "sample3 = train_images[2]\n",
    "fig, (ax1,ax2,ax3) = plt.subplots(1,3,figsize = (5,5))\n",
    "ax1.imshow(sample1)\n",
    "ax2.imshow(sample2)\n",
    "ax3.imshow(sample3)"
   ]
  },
  {
   "cell_type": "markdown",
   "metadata": {},
   "source": [
    "## Preprocessing\n",
    "The data that is used to train a neural network usually needs to be processed. For this example, we need to change the range of the value for each pixel from 0 to 255 to 0..1. This helps our NN to fit the data more easily. "
   ]
  },
  {
   "cell_type": "code",
   "execution_count": 8,
   "metadata": {},
   "outputs": [],
   "source": [
    "train_images = train_images / 255\n",
    "test_images = test_images / 255"
   ]
  },
  {
   "cell_type": "markdown",
   "metadata": {},
   "source": [
    "## Creating the model\n",
    " Next we create the model using keras Sequential. This gives us a sequential neural network. In the following code, we create a model that has 784 input nodes. In the next layer we have 120 nodes that are densely connected by the nodes in the previous layer. In the output layer there are 10 nodes that stand for the ten labels of the dataset."
   ]
  },
  {
   "cell_type": "code",
   "execution_count": 21,
   "metadata": {},
   "outputs": [],
   "source": [
    "model = tf.keras.Sequential([\n",
    "    tf.keras.layers.Flatten(input_shape=(28,28)),\n",
    "    tf.keras.layers.Dense(120,activation=\"relu\"),\n",
    "    tf.keras.layers.Dense(10,activation=\"softmax\")\n",
    "])"
   ]
  },
  {
   "cell_type": "markdown",
   "metadata": {},
   "source": [
    "After creating the structure of the model, we need to set other parameters. The loss function, the optimizer and the metrics using the compile method."
   ]
  },
  {
   "cell_type": "code",
   "execution_count": 22,
   "metadata": {},
   "outputs": [],
   "source": [
    "model.compile(optimizer=\"adam\" , loss=\"sparse_categorical_crossentropy\" , metrics=[\"accuracy\"])"
   ]
  },
  {
   "cell_type": "markdown",
   "metadata": {},
   "source": [
    "## Training the model\n",
    "Finally we use fit method to train our model.\n",
    "\n",
    "In the following example, we used batch size = 100, meaning that in each learning loop keras runs forward algorithm on 100 samples and then calculates the loss to update the gradient. Therefore, for 60000 samples we run the learning loop 600 times. We run this training session 10 times. Overal we update the weights 6000 times.  "
   ]
  },
  {
   "cell_type": "code",
   "execution_count": 23,
   "metadata": {},
   "outputs": [
    {
     "name": "stdout",
     "output_type": "stream",
     "text": [
      "Epoch 1/10\n",
      "600/600 [==============================] - 1s 2ms/step - loss: 0.5435 - accuracy: 0.8119\n",
      "Epoch 2/10\n",
      "600/600 [==============================] - 1s 2ms/step - loss: 0.4039 - accuracy: 0.8577\n",
      "Epoch 3/10\n",
      "600/600 [==============================] - 1s 2ms/step - loss: 0.3665 - accuracy: 0.8689\n",
      "Epoch 4/10\n",
      "600/600 [==============================] - 1s 2ms/step - loss: 0.3407 - accuracy: 0.8770\n",
      "Epoch 5/10\n",
      "600/600 [==============================] - 1s 2ms/step - loss: 0.3233 - accuracy: 0.8824\n",
      "Epoch 6/10\n",
      "600/600 [==============================] - 1s 2ms/step - loss: 0.3056 - accuracy: 0.8878\n",
      "Epoch 7/10\n",
      "600/600 [==============================] - 1s 2ms/step - loss: 0.2932 - accuracy: 0.8922\n",
      "Epoch 8/10\n",
      "600/600 [==============================] - 1s 2ms/step - loss: 0.2809 - accuracy: 0.8963\n",
      "Epoch 9/10\n",
      "600/600 [==============================] - 1s 2ms/step - loss: 0.2720 - accuracy: 0.8990\n",
      "Epoch 10/10\n",
      "600/600 [==============================] - 1s 2ms/step - loss: 0.2625 - accuracy: 0.9027\n"
     ]
    },
    {
     "data": {
      "text/plain": [
       "<keras.callbacks.History at 0x1396b1360>"
      ]
     },
     "execution_count": 23,
     "metadata": {},
     "output_type": "execute_result"
    }
   ],
   "source": [
    "model.fit(train_images , train_labels , epochs=10 , batch_size=100)"
   ]
  },
  {
   "cell_type": "markdown",
   "metadata": {},
   "source": [
    "As you can see, the model gets better after each batch and and each epoch. However, we can also cancel the fitting process eralier using a kind of cancellation method!\n",
    "\n",
    "The following code shows how we can use a callback function to cancel the training process when the loss value reached a specific threshold:"
   ]
  },
  {
   "cell_type": "code",
   "execution_count": 24,
   "metadata": {},
   "outputs": [
    {
     "name": "stdout",
     "output_type": "stream",
     "text": [
      "Epoch 1/10\n",
      "600/600 [==============================] - 2s 2ms/step - loss: 0.5450 - accuracy: 0.8133\n",
      "Epoch 2/10\n",
      "600/600 [==============================] - 1s 2ms/step - loss: 0.4027 - accuracy: 0.8575\n",
      "Epoch 3/10\n",
      "599/600 [============================>.] - ETA: 0s - loss: 0.3617 - accuracy: 0.8712\n",
      "Reached 0.,6 accuracy\n",
      "600/600 [==============================] - 1s 2ms/step - loss: 0.3615 - accuracy: 0.8712\n"
     ]
    },
    {
     "data": {
      "text/plain": [
       "<keras.callbacks.History at 0x1396b0a90>"
      ]
     },
     "execution_count": 24,
     "metadata": {},
     "output_type": "execute_result"
    }
   ],
   "source": [
    "class LossCallback(tf.keras.callbacks.Callback):\n",
    "    def on_epoch_end(self, epoch, logs={}):\n",
    "        if(logs.get(\"loss\")< 0.4):\n",
    "            print(\"\\nReached 0.,6 accuracy\")\n",
    "            self.model.stop_training = True\n",
    "\n",
    "loss = LossCallback()\n",
    "model = tf.keras.Sequential([\n",
    "    tf.keras.layers.Flatten(input_shape=(28,28)),\n",
    "    tf.keras.layers.Dense(120,activation=\"relu\"),\n",
    "    tf.keras.layers.Dense(10,activation=\"softmax\")\n",
    "])\n",
    "model.compile(optimizer=\"adam\" , loss=\"sparse_categorical_crossentropy\" , metrics=[\"accuracy\"])\n",
    "model.fit(train_images , train_labels , epochs=10 , batch_size=100 , callbacks=[loss])"
   ]
  },
  {
   "cell_type": "markdown",
   "metadata": {},
   "source": [
    "## Evaluating the model\n",
    "Now that we created a model that has accuracy of 90 percent on our training model, we need to evaluate it on our test data set. Because this is the accuracy on the test data set that really matters."
   ]
  },
  {
   "cell_type": "code",
   "execution_count": 22,
   "metadata": {},
   "outputs": [
    {
     "name": "stdout",
     "output_type": "stream",
     "text": [
      "313/313 [==============================] - 0s 1ms/step - loss: 0.3466 - accuracy: 0.8809\n"
     ]
    },
    {
     "data": {
      "text/plain": [
       "[0.3465520739555359, 0.8809000253677368]"
      ]
     },
     "execution_count": 22,
     "metadata": {},
     "output_type": "execute_result"
    }
   ],
   "source": [
    "model.evaluate(test_images,test_labels , verbose=1)"
   ]
  },
  {
   "cell_type": "markdown",
   "metadata": {},
   "source": [
    "As you can see, the accuracy on the testing data set is lower, which means that our model is kind of overfitting over training data. So we should try other parameters and test the model again. For example, I think that if I reduce the value for epochs it would be a good idea to avoid overfiting. In the following code I use epoch = 2"
   ]
  },
  {
   "cell_type": "code",
   "execution_count": 23,
   "metadata": {},
   "outputs": [
    {
     "name": "stdout",
     "output_type": "stream",
     "text": [
      "Epoch 1/2\n",
      "1875/1875 [==============================] - 3s 1ms/step - loss: 0.2354 - accuracy: 0.9120\n",
      "Epoch 2/2\n",
      "1875/1875 [==============================] - 3s 1ms/step - loss: 0.2266 - accuracy: 0.9145\n"
     ]
    },
    {
     "data": {
      "text/plain": [
       "<keras.callbacks.History at 0x12f4ebbb0>"
      ]
     },
     "execution_count": 23,
     "metadata": {},
     "output_type": "execute_result"
    }
   ],
   "source": [
    "model.fit(train_images , train_labels , epochs=2)"
   ]
  },
  {
   "cell_type": "code",
   "execution_count": 24,
   "metadata": {},
   "outputs": [
    {
     "name": "stdout",
     "output_type": "stream",
     "text": [
      "313/313 [==============================] - 0s 1ms/step - loss: 0.3463 - accuracy: 0.8830\n"
     ]
    },
    {
     "data": {
      "text/plain": [
       "[0.34626972675323486, 0.8830000162124634]"
      ]
     },
     "execution_count": 24,
     "metadata": {},
     "output_type": "execute_result"
    }
   ],
   "source": [
    "model.evaluate(test_images,test_labels , verbose=1)"
   ]
  },
  {
   "cell_type": "markdown",
   "metadata": {},
   "source": [
    "As you can see, the accuracy on test data is higher afterusging epoch = 2. This process is called hyper parameter tuning. We have to use the best options and this is done by experience and knowledge. "
   ]
  },
  {
   "cell_type": "markdown",
   "metadata": {},
   "source": [
    "## Using the model\n",
    "We can use the model the predict the label of new images:"
   ]
  },
  {
   "cell_type": "code",
   "execution_count": 68,
   "metadata": {},
   "outputs": [
    {
     "name": "stdout",
     "output_type": "stream",
     "text": [
      "1/1 [==============================] - 0s 26ms/step\n",
      "[[2.2617279e-02 1.5867032e-08 9.7221428e-01 4.4797679e-07 4.7165938e-03\n",
      "  6.9269222e-11 4.0245865e-04 3.5284944e-09 8.8268334e-06 4.0095576e-05]]\n",
      "Pullover\n"
     ]
    },
    {
     "data": {
      "text/plain": [
       "<matplotlib.image.AxesImage at 0x1307b6ef0>"
      ]
     },
     "execution_count": 68,
     "metadata": {},
     "output_type": "execute_result"
    },
    {
     "data": {
      "image/png": "[encoded data removed]",
      "text/plain": [
       "<Figure size 300x300 with 1 Axes>"
      ]
     },
     "metadata": {},
     "output_type": "display_data"
    }
   ],
   "source": [
    "sample = test_images[20]\n",
    "predictions = model.predict(sample)\n",
    "print(predictions)\n",
    "print(labels[np.argmax(predictions)])\n",
    "fig , axes = plt.subplots(1,1,figsize=(3,3))\n",
    "axes.imshow(sample)"
   ]
  },
  {
   "cell_type": "code",
   "execution_count": 1,
   "metadata": {},
   "outputs": [
    {
     "name": "stderr",
     "output_type": "stream",
     "text": [
      "2022-11-06 19:01:45.790094: I tensorflow/core/platform/cpu_feature_guard.cc:193] This TensorFlow binary is optimized with oneAPI Deep Neural Network Library (oneDNN) to use the following CPU instructions in performance-critical operations:  AVX2 FMA\n",
      "To enable them in other operations, rebuild TensorFlow with the appropriate compiler flags.\n"
     ]
    }
   ],
   "source": [
    "import tensorflow as tf\n"
   ]
  },
  {
   "cell_type": "code",
   "execution_count": 19,
   "metadata": {},
   "outputs": [
    {
     "name": "stdout",
     "output_type": "stream",
     "text": [
      "tf.Tensor(\n",
      "[[1. 1.]\n",
      " [1. 1.]], shape=(2, 2), dtype=float32)\n",
      "tf.Tensor(\n",
      "[[1. 2.]\n",
      " [3. 4.]], shape=(2, 2), dtype=float32)\n"
     ]
    }
   ],
   "source": [
    "x = tf.ones(shape=(2,2))\n",
    "y = tf.constant([[1.,2.],[3.,4.]])\n",
    "print(x)\n",
    "print(y)\n"
   ]
  },
  {
   "cell_type": "code",
   "execution_count": 22,
   "metadata": {},
   "outputs": [
    {
     "data": {
      "text/plain": [
       "<tf.Tensor: shape=(2, 2), dtype=float32, numpy=\n",
       "array([[4., 6.],\n",
       "       [4., 6.]], dtype=float32)>"
      ]
     },
     "execution_count": 22,
     "metadata": {},
     "output_type": "execute_result"
    }
   ],
   "source": [
    "tf.matmul(x,y) # dot prduct"
   ]
  },
  {
   "cell_type": "code",
   "execution_count": null,
   "metadata": {},
   "outputs": [],
   "source": [
    "input_var  = tf.random.uniform(shape=(10,1))\n",
    "with tf.GradientTape() as tape:\n",
    "    result = tf.square(input_var)\n",
    "gradient = tape.gradient(result, input_var)\n"
   ]
  },
  {
   "cell_type": "markdown",
   "metadata": {},
   "source": [
    "## Binary classification\n",
    "\n",
    "Two-class classification, or binary classification, is one of the most common kinds of machine learning problems. In this example, you’ll learn to classify movie reviews as positive or negative, based on the text content of the reviews.\n",
    "\n",
    "For this example, we use IMDB dataset. Just like the MNIST dataset, the IMDB dataset comes packaged with Keras. It has already been preprocessed: the reviews (sequences of words) have been turned into sequences of integers, where each integer stands for a specific word in a dictionary.\n",
    "\n"
   ]
  },
  {
   "cell_type": "code",
   "execution_count": 2,
   "metadata": {},
   "outputs": [],
   "source": [
    "from tensorflow.keras.datasets import imdb\n",
    "(train_data, train_label), (test_data, test_label) = imdb.load_data(num_words=10000)"
   ]
  },
  {
   "cell_type": "markdown",
   "metadata": {},
   "source": [
    "This dataset has 25000 traning sample and 25000 samples for evaluation."
   ]
  },
  {
   "cell_type": "code",
   "execution_count": 5,
   "metadata": {},
   "outputs": [
    {
     "name": "stdout",
     "output_type": "stream",
     "text": [
      "(25000,)\n",
      "(25000,)\n"
     ]
    }
   ],
   "source": [
    "print(test_data.shape)\n",
    "print(train_data.shape)"
   ]
  },
  {
   "cell_type": "markdown",
   "metadata": {},
   "source": [
    "We can use the word index to decode the samples to the original sentences:"
   ]
  },
  {
   "cell_type": "code",
   "execution_count": 26,
   "metadata": {},
   "outputs": [],
   "source": [
    "word_index = imdb.get_word_index()\n",
    "word_index_reversed = dict([(v,k) for k,v in word_index.items()])\n",
    "def decode(sample):\n",
    "    return \" \".join([word_index_reversed.get(k-3,\"?\") for k in sample])\n"
   ]
  },
  {
   "cell_type": "code",
   "execution_count": 27,
   "metadata": {},
   "outputs": [
    {
     "data": {
      "text/plain": [
       "\"? this film was just brilliant casting location scenery story direction everyone's really suited the part they played and you could just imagine being there robert ? is an amazing actor and now the same being director ? father came from the same scottish island as myself so i loved the fact there was a real connection with this film the witty remarks throughout the film were great it was just brilliant so much that i bought the film as soon as it was released for ? and would recommend it to everyone to watch and the fly fishing was amazing really cried at the end it was so sad and you know what they say if you cry at a film it must have been good and this definitely was also ? to the two little boy's that played the ? of norman and paul they were just brilliant children are often left out of the ? list i think because the stars that play them all grown up are such a big profile for the whole film but these children are amazing and should be praised for what they have done don't you think the whole story was so lovely because it was true and was someone's life after all that was shared with us all\""
      ]
     },
     "execution_count": 27,
     "metadata": {},
     "output_type": "execute_result"
    }
   ],
   "source": [
    "decode(train_data[0])"
   ]
  },
  {
   "cell_type": "code",
   "execution_count": 29,
   "metadata": {},
   "outputs": [
    {
     "data": {
      "text/plain": [
       "\"? this has to be one of the worst films of the 1990s when my friends i were watching this film being the target audience it was aimed at we just sat watched the first half an hour with our jaws touching the floor at how bad it really was the rest of the time everyone else in the theatre just started talking to each other leaving or generally crying into their popcorn that they actually paid money they had ? working to watch this feeble excuse for a film it must have looked like a great idea on paper but on film it looks like no one in the film has a clue what is going on crap acting crap costumes i can't get across how ? this is to watch save yourself an hour a bit of your life\""
      ]
     },
     "execution_count": 29,
     "metadata": {},
     "output_type": "execute_result"
    }
   ],
   "source": [
    "decode(train_data[2])"
   ]
  },
  {
   "cell_type": "markdown",
   "metadata": {},
   "source": [
    "As you can see, the trainning samples have different lengths:"
   ]
  },
  {
   "cell_type": "code",
   "execution_count": 11,
   "metadata": {},
   "outputs": [
    {
     "data": {
      "text/plain": [
       "[218, 189, 141, 550, 147, 43, 123, 562, 233, 130, 450, 99, 117, 238, 109]"
      ]
     },
     "execution_count": 11,
     "metadata": {},
     "output_type": "execute_result"
    }
   ],
   "source": [
    "[len(sample) for sample in train_data[:15]]"
   ]
  },
  {
   "cell_type": "markdown",
   "metadata": {},
   "source": [
    "However, neural networks need samples with equal lenghts to work. Therefore, we need a way to convert samples to the vectors with the same lengths.  There are two ways to do that:\n",
    "\n",
    "1. Pad your lists so that they all have the same length, turn them into an integer tensor of shape (samples, max_length), and start your model with a layer capa- ble of handling such integer tensors (the Embedding layer, which we’ll cover in detail later in the book).\n",
    "\n",
    "2. Multi-hot encode your lists to turn them into vectors of 0s and 1s. This would mean, for instance, turning the sequence [8, 5] into a 10,000-dimensional vec- tor that would be all 0s except for indices 8 and 5, which would be 1s. Then you could use a Dense layer, capable of handling floating-point vector data, as the first layer in your model."
   ]
  },
  {
   "cell_type": "code",
   "execution_count": 9,
   "metadata": {},
   "outputs": [],
   "source": [
    "import numpy as np \n",
    "max_length = max([max(sample) for sample in train_data])\n",
    "train_data_vectorized = np.zeros([len(train_data), max_length])"
   ]
  },
  {
   "cell_type": "code",
   "execution_count": 33,
   "metadata": {},
   "outputs": [
    {
     "data": {
      "text/plain": [
       "(25000, 9999)"
      ]
     },
     "execution_count": 33,
     "metadata": {},
     "output_type": "execute_result"
    }
   ],
   "source": [
    "train_data_vectorized.shape"
   ]
  },
  {
   "cell_type": "code",
   "execution_count": 10,
   "metadata": {},
   "outputs": [],
   "source": [
    "def vectorize_sequences(samples, dimension=100000):\n",
    "    results = np.zeros((len(samples), dimension))\n",
    "    for i, sequence in enumerate(samples):\n",
    "        for j in sequence:\n",
    "            results[i, j] = 1.\n",
    "    return results"
   ]
  },
  {
   "cell_type": "code",
   "execution_count": 11,
   "metadata": {},
   "outputs": [],
   "source": [
    "train_x = vectorize_sequences(train_data)\n",
    "test_x = vectorize_sequences(test_data)"
   ]
  },
  {
   "cell_type": "markdown",
   "metadata": {},
   "source": [
    "Now, we define the structur of the neural network:"
   ]
  },
  {
   "cell_type": "code",
   "execution_count": 59,
   "metadata": {},
   "outputs": [],
   "source": [
    "model = tf.keras.Sequential(\n",
    "    [tf.keras.layers.Dense(16,activation=\"relu\"),\n",
    "    tf.keras.layers.Dense(16,activation=\"relu\"),\n",
    "    tf.keras.layers.Dense(1,activation=\"sigmoid\")]\n",
    ")"
   ]
  },
  {
   "cell_type": "markdown",
   "metadata": {},
   "source": [
    "You may wonder why I chose 16 nodes for the first and the second layers, and 1 node for the output layer. First, I explain the thrid layer. Since our problem is a binary classification method, only one output node is enough to represent the final result. The final result of the sigmoid function is a number between 0 and 1, which is used to explain the probability of each class: a score between 0 and 1 indicating how likely the sample is to have the target “1”. The 1 is positive review and the label 0 is negative review.\n",
    "\n",
    "Having 16 units in the first layer means the weight matrix W will have shape (input_dimension, 16): the dot product with W will project the input data onto a 16-dimensional representation space (and then you’ll add the bias vector b and apply the relu operation). You can intuitively understand the dimensionality of your representation space as “how much freedom you’re allowing the model to have when learning internal representations.” Having more units (a higher-dimensional representation space) allows your model to learn more-complex representations, but it makes the model more computationally expensive and may lead to learning unwanted patterns (patterns that will improve performance on the training data but not on the test data).\n",
    "\n",
    "In our example, the input vector's dimension is 10000. So our first layer represents the input data of 10000 values with a 10000x16 weight mnatix. The shape of the weight matrix of the next layer is 16x16. And the final layer is 16x1.\n",
    "\n",
    "After structuring the data, we compile the neural network by setting the tuning parameters:"
   ]
  },
  {
   "cell_type": "code",
   "execution_count": 62,
   "metadata": {},
   "outputs": [],
   "source": [
    "model.compile(optimizer=\"rmsprop\" , loss=\"binary_crossentropy\" , metrics=[\"accuracy\"])"
   ]
  },
  {
   "cell_type": "markdown",
   "metadata": {},
   "source": [
    "For this example, it is best to use the binary_crossentropy loss. It isn’t the only viable choice: for instance, you could use mean_squared_error. But crossentropy is usually the best choice when you’re dealing with models that output probabilities. Crossentropy is a quantity from the field of infor- mation theory that measures the distance between probability distributions or, in this case, between the ground-truth distribution and your predictions.\n",
    "\n",
    "As for the choice of the optimizer, we’ll go with rmsprop, which is a usually a good default choice for virtually any problem.\n",
    "\n",
    "\n",
    "Now, We train the model for 10 epochs (10 iterations over all samples in the trainng data) in mini-batches of 512 samples."
   ]
  },
  {
   "cell_type": "code",
   "execution_count": 63,
   "metadata": {},
   "outputs": [
    {
     "name": "stdout",
     "output_type": "stream",
     "text": [
      "Epoch 1/10\n",
      "49/49 [==============================] - 19s 318ms/step - loss: 0.4404 - accuracy: 0.8273\n",
      "Epoch 2/10\n",
      "49/49 [==============================] - 17s 339ms/step - loss: 0.2528 - accuracy: 0.9135\n",
      "Epoch 3/10\n",
      "49/49 [==============================] - 16s 331ms/step - loss: 0.1962 - accuracy: 0.9310\n",
      "Epoch 4/10\n",
      "49/49 [==============================] - 16s 326ms/step - loss: 0.1663 - accuracy: 0.9409\n",
      "Epoch 5/10\n",
      "49/49 [==============================] - 16s 321ms/step - loss: 0.1449 - accuracy: 0.9489\n",
      "Epoch 6/10\n",
      "49/49 [==============================] - 16s 320ms/step - loss: 0.1278 - accuracy: 0.9559\n",
      "Epoch 7/10\n",
      "49/49 [==============================] - 16s 321ms/step - loss: 0.1149 - accuracy: 0.9605\n",
      "Epoch 8/10\n",
      "49/49 [==============================] - 18s 367ms/step - loss: 0.0986 - accuracy: 0.9662\n",
      "Epoch 9/10\n",
      "49/49 [==============================] - 20s 404ms/step - loss: 0.0914 - accuracy: 0.9695\n",
      "Epoch 10/10\n",
      "49/49 [==============================] - 15s 305ms/step - loss: 0.0819 - accuracy: 0.9722\n"
     ]
    },
    {
     "data": {
      "text/plain": [
       "<keras.callbacks.History at 0x134c55540>"
      ]
     },
     "execution_count": 63,
     "metadata": {},
     "output_type": "execute_result"
    }
   ],
   "source": [
    "model.fit(train_x , train_label, epochs=10, batch_size=512)"
   ]
  },
  {
   "cell_type": "markdown",
   "metadata": {},
   "source": [
    "After traininng we can use evaluate method to test the model on new data. However, it is very common that we use a validation set to monitor the accuracy of the model during training. "
   ]
  },
  {
   "cell_type": "code",
   "execution_count": 67,
   "metadata": {},
   "outputs": [
    {
     "name": "stdout",
     "output_type": "stream",
     "text": [
      "Epoch 1/10\n",
      "30/30 [==============================] - 29s 895ms/step - loss: 0.5376 - accuracy: 0.7791 - val_loss: 0.4115 - val_accuracy: 0.8643\n",
      "Epoch 2/10\n",
      "30/30 [==============================] - 14s 478ms/step - loss: 0.3273 - accuracy: 0.9018 - val_loss: 0.3135 - val_accuracy: 0.8899\n",
      "Epoch 3/10\n",
      "30/30 [==============================] - 15s 506ms/step - loss: 0.2358 - accuracy: 0.9279 - val_loss: 0.2900 - val_accuracy: 0.8873\n",
      "Epoch 4/10\n",
      "30/30 [==============================] - 15s 504ms/step - loss: 0.1843 - accuracy: 0.9415 - val_loss: 0.2723 - val_accuracy: 0.8913\n",
      "Epoch 5/10\n",
      "30/30 [==============================] - 15s 513ms/step - loss: 0.1504 - accuracy: 0.9530 - val_loss: 0.2938 - val_accuracy: 0.8830\n",
      "Epoch 6/10\n",
      "30/30 [==============================] - 16s 536ms/step - loss: 0.1254 - accuracy: 0.9611 - val_loss: 0.3045 - val_accuracy: 0.8805\n",
      "Epoch 7/10\n",
      "30/30 [==============================] - 16s 551ms/step - loss: 0.1064 - accuracy: 0.9679 - val_loss: 0.3029 - val_accuracy: 0.8838\n",
      "Epoch 8/10\n",
      "30/30 [==============================] - 15s 514ms/step - loss: 0.0882 - accuracy: 0.9750 - val_loss: 0.3494 - val_accuracy: 0.8758\n",
      "Epoch 9/10\n",
      "30/30 [==============================] - 15s 516ms/step - loss: 0.0730 - accuracy: 0.9805 - val_loss: 0.3406 - val_accuracy: 0.8811\n",
      "Epoch 10/10\n",
      "30/30 [==============================] - 14s 463ms/step - loss: 0.0622 - accuracy: 0.9839 - val_loss: 0.3646 - val_accuracy: 0.8809\n"
     ]
    }
   ],
   "source": [
    "train_data_validation_part = train_x[:10000]\n",
    "train_data_fit_part = train_x[10000:]\n",
    "train_label_validation_part = train_label[:10000]\n",
    "train_label_fit_part = train_label[10000:]\n",
    "\n",
    "model = tf.keras.Sequential(\n",
    "    [tf.keras.layers.Dense(16,activation=\"relu\"),\n",
    "    tf.keras.layers.Dense(16,activation=\"relu\"),\n",
    "    tf.keras.layers.Dense(1,activation=\"sigmoid\")]\n",
    ")\n",
    "\n",
    "model.compile(optimizer=\"rmsprop\" , loss=\"binary_crossentropy\" , metrics=[\"accuracy\"])\n",
    "history = model.fit(train_data_fit_part , train_label_fit_part, epochs=10, batch_size=512 , validation_data=(train_data_validation_part,train_label_validation_part))"
   ]
  },
  {
   "cell_type": "markdown",
   "metadata": {},
   "source": [
    "We can use the hitory object for further investigation! Now, I use this history method to print the validation and loss value for validation set for each epoch."
   ]
  },
  {
   "cell_type": "code",
   "execution_count": 77,
   "metadata": {},
   "outputs": [
    {
     "data": {
      "text/plain": [
       "[<matplotlib.lines.Line2D at 0x1646ed570>]"
      ]
     },
     "execution_count": 77,
     "metadata": {},
     "output_type": "execute_result"
    },
    {
     "data": {
      "image/png": "[encoded data removed]",
      "text/plain": [
       "<Figure size 400x400 with 1 Axes>"
      ]
     },
     "metadata": {},
     "output_type": "display_data"
    }
   ],
   "source": [
    "import matplotlib.pyplot as plt\n",
    "history_dict = history.history\n",
    "fig, axes = plt.subplots(1,1,figsize=(4,4))\n",
    "epochs = range(1, len(history_dict[\"val_accuracy\"])+1)\n",
    "axes.plot(epochs, history_dict[\"val_accuracy\"],\"bo\")\n",
    "axes.plot(epochs, history_dict[\"accuracy\"],\"b\")"
   ]
  },
  {
   "cell_type": "markdown",
   "metadata": {},
   "source": [
    "As you can see, the accuracy on the training set increases every epoch, while the accuracy on the validation set bounces up and down after the second epoch. This example shows us that a model that performs better on the training data isn’t necessarily a model that will do better on data it has never seen before. In precise terms, what you’re seeing is overfitting: after the fourth epoch, you’re overoptimizing on the training data, and you end up learning representations that are specific to the training data and don’t generalize to data outside of the training set. There are a range of techniques to mitigate overfitting that we will cover later."
   ]
  },
  {
   "cell_type": "markdown",
   "metadata": {},
   "source": [
    "## Multiclass classifiction\n",
    "\n",
    "In this section, we’ll build a model to classify Reuters newswires into 46 mutually exclusive topics. Because we have many classes, this problem is an instance of multiclass classification, and because each data point should be classified into only one category, the problem is more specifically an instance of single-label multiclass classification."
   ]
  },
  {
   "cell_type": "code",
   "execution_count": 1,
   "metadata": {},
   "outputs": [
    {
     "name": "stderr",
     "output_type": "stream",
     "text": [
      "2022-11-14 17:17:12.070837: I tensorflow/core/platform/cpu_feature_guard.cc:193] This TensorFlow binary is optimized with oneAPI Deep Neural Network Library (oneDNN) to use the following CPU instructions in performance-critical operations:  AVX2 FMA\n",
      "To enable them in other operations, rebuild TensorFlow with the appropriate compiler flags.\n"
     ]
    },
    {
     "name": "stdout",
     "output_type": "stream",
     "text": [
      "Downloading data from https://storage.googleapis.com/tensorflow/tf-keras-datasets/reuters.npz\n",
      "2110848/2110848 [==============================] - 3s 2us/step\n"
     ]
    }
   ],
   "source": [
    "import tensorflow as tf\n",
    "from tensorflow.keras.datasets import reuters\n",
    "(train_data, train_label) , (test_data, test_label) = reuters.load_data(num_words=10000)"
   ]
  },
  {
   "cell_type": "markdown",
   "metadata": {},
   "source": [
    "As with the IMDB dataset, the argument num_words=10000 restricts the data to the 10,000 most frequently occurring words found in the data. As with the IMDB reviews, each example is a list of integers, and you can use the reversed index in order to decode the samples.\n",
    "\n",
    "The important difference between reuters dataset and the imdb dataset is the number of classes. We have 46 classes here, so we need a way to represent the label There are two ways to do this:\n",
    "\n",
    "1. We can use a loss function called sparse_categorical_crossentropy that uses class labels as indexes.\n",
    "\n",
    "2. It is also possible to represent the labels using one-hot encoding. One-hot encoding is a widely used format for categorical data, also called categorical encoding. In this case, one-hot encoding of the labels consists of embedding each label as an all-zero vector with a 1 in the place of the label index.\n",
    "\n",
    "There is a builtin method to do this in keras:"
   ]
  },
  {
   "cell_type": "code",
   "execution_count": 12,
   "metadata": {},
   "outputs": [],
   "source": [
    "from tensorflow.keras.utils import to_categorical\n",
    "y_train = to_categorical(train_label)\n",
    "y_test = to_categorical(test_label)"
   ]
  },
  {
   "cell_type": "code",
   "execution_count": 5,
   "metadata": {},
   "outputs": [
    {
     "name": "stdout",
     "output_type": "stream",
     "text": [
      "[0. 0. 0. 1. 0. 0. 0. 0. 0. 0. 0. 0. 0. 0. 0. 0. 0. 0. 0. 0. 0. 0. 0. 0.\n",
      " 0. 0. 0. 0. 0. 0. 0. 0. 0. 0. 0. 0. 0. 0. 0. 0. 0. 0. 0. 0. 0. 0.]\n",
      "3\n"
     ]
    }
   ],
   "source": [
    "print(y_train[0])\n",
    "print(train_label[0])"
   ]
  },
  {
   "cell_type": "code",
   "execution_count": 13,
   "metadata": {},
   "outputs": [],
   "source": [
    "x_train = vectorize_sequences(train_data)\n",
    "x_test = vectorize_sequences(test_data)"
   ]
  },
  {
   "cell_type": "markdown",
   "metadata": {},
   "source": [
    "In a stack of Dense layers like those we’ve been using, each layer can only access information present in the output of the previous layer. If one layer drops some information relevant to the classification problem, this information can never be recovered by later layers: each layer can potentially become an information bottle- neck. In the previous example, we used 16-dimensional intermediate layers, but a 16-dimensional space may be too limited to learn to separate 46 different classes: such small layers may act as information bottlenecks, permanently dropping relevant information."
   ]
  },
  {
   "cell_type": "code",
   "execution_count": 29,
   "metadata": {},
   "outputs": [],
   "source": [
    "model = tf.keras.Sequential([\n",
    "    tf.keras.layers.Dense(64, activation=\"relu\"),\n",
    "    tf.keras.layers.Dense(64, activation=\"relu\"),\n",
    "    tf.keras.layers.Dense(46, activation=\"sigmoid\")\n",
    "])\n",
    "\n",
    "model.compile(loss=\"categorical_crossentropy\", optimizer=\"rmsprop\", metrics=[\"accuracy\"])"
   ]
  },
  {
   "cell_type": "code",
   "execution_count": 30,
   "metadata": {},
   "outputs": [
    {
     "name": "stdout",
     "output_type": "stream",
     "text": [
      "Epoch 1/2\n",
      "18/18 [==============================] - 8s 279ms/step - loss: 2.7064 - accuracy: 0.5247\n",
      "Epoch 2/2\n",
      "18/18 [==============================] - 3s 140ms/step - loss: 1.4623 - accuracy: 0.7072\n"
     ]
    },
    {
     "data": {
      "text/plain": [
       "<keras.callbacks.History at 0x12b16ab90>"
      ]
     },
     "execution_count": 30,
     "metadata": {},
     "output_type": "execute_result"
    }
   ],
   "source": [
    "model.fit(train_x,y_train,epochs=2,batch_size=512)"
   ]
  },
  {
   "cell_type": "code",
   "execution_count": 36,
   "metadata": {},
   "outputs": [
    {
     "name": "stdout",
     "output_type": "stream",
     "text": [
      "1/1 [==============================] - 0s 29ms/step\n"
     ]
    }
   ],
   "source": [
    "predictions = model.predict(x_test[0:1])"
   ]
  },
  {
   "cell_type": "code",
   "execution_count": 41,
   "metadata": {},
   "outputs": [
    {
     "data": {
      "text/plain": [
       "14.486659"
      ]
     },
     "execution_count": 41,
     "metadata": {},
     "output_type": "execute_result"
    }
   ],
   "source": [
    "predictions.sum()"
   ]
  },
  {
   "cell_type": "markdown",
   "metadata": {},
   "source": [
    "As you see, the sum of allprediction for classes is larger than 1 so this is not suitable. Therefore we change our activation function for the last layer."
   ]
  },
  {
   "cell_type": "code",
   "execution_count": 42,
   "metadata": {},
   "outputs": [],
   "source": [
    "model = tf.keras.Sequential([\n",
    "    tf.keras.layers.Dense(64, activation=\"relu\"),\n",
    "    tf.keras.layers.Dense(64, activation=\"relu\"),\n",
    "    tf.keras.layers.Dense(46, activation=\"softmax\")\n",
    "])\n",
    "\n",
    "model.compile(loss=\"categorical_crossentropy\", optimizer=\"rmsprop\", metrics=[\"accuracy\"])"
   ]
  },
  {
   "cell_type": "code",
   "execution_count": 43,
   "metadata": {},
   "outputs": [
    {
     "name": "stdout",
     "output_type": "stream",
     "text": [
      "Epoch 1/2\n",
      "18/18 [==============================] - 9s 286ms/step - loss: 2.6278 - accuracy: 0.5551\n",
      "Epoch 2/2\n",
      "18/18 [==============================] - 3s 149ms/step - loss: 1.3798 - accuracy: 0.7216\n"
     ]
    },
    {
     "data": {
      "text/plain": [
       "<keras.callbacks.History at 0x12b943a00>"
      ]
     },
     "execution_count": 43,
     "metadata": {},
     "output_type": "execute_result"
    }
   ],
   "source": [
    "model.fit(train_x,y_train,epochs=2,batch_size=512)"
   ]
  },
  {
   "cell_type": "code",
   "execution_count": 44,
   "metadata": {},
   "outputs": [
    {
     "name": "stdout",
     "output_type": "stream",
     "text": [
      "1/1 [==============================] - 0s 74ms/step\n"
     ]
    },
    {
     "data": {
      "text/plain": [
       "1.0"
      ]
     },
     "execution_count": 44,
     "metadata": {},
     "output_type": "execute_result"
    }
   ],
   "source": [
    "predictions = model.predict(x_test[0:1])\n",
    "predictions.sum()"
   ]
  },
  {
   "cell_type": "markdown",
   "metadata": {},
   "source": [
    "Now you see that the final sum returns 1 which shows that we have used an appropriate activation function to make up a correct probability distribution for 46 classes. The maximum probability shows the label that should be chosen for the sample:"
   ]
  },
  {
   "cell_type": "code",
   "execution_count": 46,
   "metadata": {},
   "outputs": [
    {
     "name": "stdout",
     "output_type": "stream",
     "text": [
      "3\n"
     ]
    }
   ],
   "source": [
    "print(np.argmax(predictions))"
   ]
  },
  {
   "cell_type": "markdown",
   "metadata": {},
   "source": [
    "Lets increase the epochs and see the difference:"
   ]
  },
  {
   "cell_type": "code",
   "execution_count": 48,
   "metadata": {},
   "outputs": [
    {
     "name": "stdout",
     "output_type": "stream",
     "text": [
      "Epoch 1/20\n",
      "16/16 [==============================] - 10s 410ms/step - loss: 2.7833 - accuracy: 0.5361 - val_loss: 1.8471 - val_accuracy: 0.6650\n",
      "Epoch 2/20\n",
      "16/16 [==============================] - 4s 278ms/step - loss: 1.4623 - accuracy: 0.7174 - val_loss: 1.3389 - val_accuracy: 0.7160\n",
      "Epoch 3/20\n",
      "16/16 [==============================] - 3s 174ms/step - loss: 1.0569 - accuracy: 0.7795 - val_loss: 1.1380 - val_accuracy: 0.7600\n",
      "Epoch 4/20\n",
      "16/16 [==============================] - 3s 169ms/step - loss: 0.8256 - accuracy: 0.8264 - val_loss: 1.0307 - val_accuracy: 0.7850\n",
      "Epoch 5/20\n",
      "16/16 [==============================] - 3s 178ms/step - loss: 0.6595 - accuracy: 0.8633 - val_loss: 0.9569 - val_accuracy: 0.8020\n",
      "Epoch 6/20\n",
      "16/16 [==============================] - 3s 171ms/step - loss: 0.5306 - accuracy: 0.8940 - val_loss: 0.9186 - val_accuracy: 0.8100\n",
      "Epoch 7/20\n",
      "16/16 [==============================] - 3s 168ms/step - loss: 0.4260 - accuracy: 0.9127 - val_loss: 0.9295 - val_accuracy: 0.8040\n",
      "Epoch 8/20\n",
      "16/16 [==============================] - 3s 169ms/step - loss: 0.3494 - accuracy: 0.9296 - val_loss: 0.8997 - val_accuracy: 0.8180\n",
      "Epoch 9/20\n",
      "16/16 [==============================] - 3s 175ms/step - loss: 0.2908 - accuracy: 0.9394 - val_loss: 0.9023 - val_accuracy: 0.8180\n",
      "Epoch 10/20\n",
      "16/16 [==============================] - 3s 170ms/step - loss: 0.2442 - accuracy: 0.9450 - val_loss: 0.8961 - val_accuracy: 0.8120\n",
      "Epoch 11/20\n",
      "16/16 [==============================] - 3s 170ms/step - loss: 0.2085 - accuracy: 0.9493 - val_loss: 0.9059 - val_accuracy: 0.8120\n",
      "Epoch 12/20\n",
      "16/16 [==============================] - 3s 176ms/step - loss: 0.1853 - accuracy: 0.9511 - val_loss: 0.9502 - val_accuracy: 0.8250\n",
      "Epoch 13/20\n",
      "16/16 [==============================] - 3s 189ms/step - loss: 0.1669 - accuracy: 0.9540 - val_loss: 0.9263 - val_accuracy: 0.8210\n",
      "Epoch 14/20\n",
      "16/16 [==============================] - 3s 168ms/step - loss: 0.1512 - accuracy: 0.9555 - val_loss: 0.9414 - val_accuracy: 0.8200\n",
      "Epoch 15/20\n",
      "16/16 [==============================] - 3s 173ms/step - loss: 0.1436 - accuracy: 0.9567 - val_loss: 1.0191 - val_accuracy: 0.8030\n",
      "Epoch 16/20\n",
      "16/16 [==============================] - 3s 191ms/step - loss: 0.1334 - accuracy: 0.9551 - val_loss: 0.9788 - val_accuracy: 0.8090\n",
      "Epoch 17/20\n",
      "16/16 [==============================] - 3s 181ms/step - loss: 0.1315 - accuracy: 0.9560 - val_loss: 1.0236 - val_accuracy: 0.8040\n",
      "Epoch 18/20\n",
      "16/16 [==============================] - 3s 166ms/step - loss: 0.1210 - accuracy: 0.9559 - val_loss: 1.0445 - val_accuracy: 0.8070\n",
      "Epoch 19/20\n",
      "16/16 [==============================] - 3s 166ms/step - loss: 0.1169 - accuracy: 0.9562 - val_loss: 1.0331 - val_accuracy: 0.8100\n",
      "Epoch 20/20\n",
      "16/16 [==============================] - 3s 157ms/step - loss: 0.1133 - accuracy: 0.9592 - val_loss: 1.0825 - val_accuracy: 0.8000\n"
     ]
    }
   ],
   "source": [
    "model = tf.keras.Sequential([\n",
    "    tf.keras.layers.Dense(64, activation=\"relu\"),\n",
    "    tf.keras.layers.Dense(64, activation=\"relu\"),\n",
    "    tf.keras.layers.Dense(46, activation=\"softmax\")\n",
    "])\n",
    "\n",
    "model.compile(loss=\"categorical_crossentropy\", optimizer=\"rmsprop\", metrics=[\"accuracy\"])\n",
    "history = model.fit(train_x[1000:],y_train[1000:],epochs=20,batch_size=512 , validation_data=(train_x[:1000],y_train[:1000]))"
   ]
  },
  {
   "cell_type": "markdown",
   "metadata": {},
   "source": [
    "As you see , the accuracy on the validation set increasesed until epoch 6 but then it bums up and down.\n"
   ]
  },
  {
   "cell_type": "markdown",
   "metadata": {},
   "source": [
    "\n",
    "Here’s what you should take away from this example:\n",
    "* If you’re trying to classify data points among N classes, your model should end with a Dense layer of size N.\n",
    "* In a single-label, multiclass classification problem, your model should end with a softmax activation so that it will output a probability distribution over the N output classes.\n",
    "* Categorical crossentropy is almost always the loss function you should use for such problems. It minimizes the distance between the probability distributions output by the model and the true distribution of the targets.\n",
    "* There are two ways to handle labels in multiclass classification:\n",
    " - Encoding the labels via categorical encoding (also known as one-hot encod-\n",
    "ing) and using categorical_crossentropy as a loss function\n",
    " - Encoding the labels as integers and using the sparse_categorical_cross-\n",
    "entropy loss function\n",
    "* If you need to classify data into a large number of categories, you should avoid\n",
    "creating information bottlenecks in your model due to intermediate layers that are too small."
   ]
  },
  {
   "cell_type": "markdown",
   "metadata": {},
   "source": [
    "## Regression\n",
    "\n",
    "For this section we use Boston housing price dataset:"
   ]
  },
  {
   "cell_type": "code",
   "execution_count": 33,
   "metadata": {},
   "outputs": [],
   "source": [
    "from tensorflow.keras.datasets import boston_housing\n",
    "(train_data, train_labels), (test_data, test_labels) = boston_housing.load_data()"
   ]
  },
  {
   "cell_type": "markdown",
   "metadata": {},
   "source": [
    "This dataset is a alittle different from the previous ones we worked on.\n",
    "First of all, the target values are not the class labels, which seems quite normal as it is a regression rpoblem not a classification problem."
   ]
  },
  {
   "cell_type": "code",
   "execution_count": 34,
   "metadata": {},
   "outputs": [
    {
     "data": {
      "text/plain": [
       "array([15.2, 42.3, 50. , 21.1, 17.7, 18.5, 11.3, 15.6, 15.6, 14.4])"
      ]
     },
     "execution_count": 34,
     "metadata": {},
     "output_type": "execute_result"
    }
   ],
   "source": [
    "train_labels[:10]"
   ]
  },
  {
   "cell_type": "markdown",
   "metadata": {},
   "source": [
    "Moreover, the data values of different features have different scales. For example, the values of the third feature are larger than 1, while the values of fifth feature are between zero and 1."
   ]
  },
  {
   "cell_type": "code",
   "execution_count": 35,
   "metadata": {},
   "outputs": [
    {
     "name": "stdout",
     "output_type": "stream",
     "text": [
      "[ 8.14  2.03 18.1   5.19 18.1   7.38 18.1  19.58 19.58 21.89]\n",
      "[0.538 0.415 0.631 0.515 0.713 0.493 0.7   0.871 0.871 0.624]\n"
     ]
    }
   ],
   "source": [
    "print(train_data[:10,2])\n",
    "print(train_data[:10,4])"
   ]
  },
  {
   "cell_type": "markdown",
   "metadata": {},
   "source": [
    "It causes problems for training. Therefore, we usually do feature-wise normalization before we start training. It means that When your data has features with different ranges, we must scale each feature inde pendently as part of preprocessing. In other words, For each feature in the input data (a column in the input data matrix), we subtract the mean of the feature and divide by the standard deviation, so that the feature is centered around 0 and has a unit standard deviation."
   ]
  },
  {
   "cell_type": "code",
   "execution_count": 36,
   "metadata": {},
   "outputs": [],
   "source": [
    "\n",
    "means = np.mean(train_data, axis=0)\n",
    "stds = np.std(train_data, axis=0)\n",
    "train_data -= means\n",
    "train_data /= stds\n",
    "\n",
    "test_data -= means\n",
    "test_data /= stds"
   ]
  },
  {
   "cell_type": "markdown",
   "metadata": {},
   "source": [
    "Now. all the data is centered around 0 and the large values scaled down to be around -1 to 1.\n",
    "\n",
    "An important note: You should never use any quantity computed on the test data in your workflow, even for something as simple as data normalization."
   ]
  },
  {
   "cell_type": "code",
   "execution_count": 37,
   "metadata": {},
   "outputs": [
    {
     "name": "stdout",
     "output_type": "stream",
     "text": [
      "[-0.43576161 -1.33391162  1.0283258  -0.86940196  1.0283258  -0.54747912\n",
      "  1.0283258   1.24588095  1.24588095  1.58544339]\n",
      "[-0.1652266  -1.21518188  0.62864202 -0.3615597   1.32861221 -0.54935658\n",
      "  1.21764133  2.67733525  2.67733525  0.56888847]\n"
     ]
    }
   ],
   "source": [
    "print(train_data[:10,2])\n",
    "print(train_data[:10,4])"
   ]
  },
  {
   "cell_type": "markdown",
   "metadata": {},
   "source": [
    "building model\n",
    "\n",
    "Another important feature of this dataset is the low number of training samples. In general, the less training data you have, the worse overfitting will be, and using a small model is one way to mitigate overfitting. Therefore, we’ll use a very small model with two intermediate layers, each with 64 units."
   ]
  },
  {
   "cell_type": "code",
   "execution_count": 40,
   "metadata": {},
   "outputs": [
    {
     "name": "stderr",
     "output_type": "stream",
     "text": [
      "2022-11-15 17:00:52.328560: I tensorflow/core/platform/cpu_feature_guard.cc:193] This TensorFlow binary is optimized with oneAPI Deep Neural Network Library (oneDNN) to use the following CPU instructions in performance-critical operations:  AVX2 FMA\n",
      "To enable them in other operations, rebuild TensorFlow with the appropriate compiler flags.\n"
     ]
    }
   ],
   "source": [
    "model = tf.keras.Sequential([\n",
    "    tf.keras.layers.Dense(64,activation=\"relu\"),\n",
    "    tf.keras.layers.Dense(64,activation=\"relu\"),\n",
    "    tf.keras.layers.Dense(1),\n",
    "])\n",
    "\n",
    "model.compile(optimizer=\"rmsprop\", loss=\"mse\" ,metrics=[\"mae\"])"
   ]
  },
  {
   "cell_type": "markdown",
   "metadata": {},
   "source": [
    "* The final layer: The model ends with a single unit and no activation (it will be a linear layer). This is a typical setup for scalar regression (a regression where you’re trying to predict a single continuous value). Applying an activation function would constrain the range the out- put can take; for instance, if you applied a sigmoid activation function to the last layer, the model could only learn to predict values between 0 and 1. Here, because the last layer is purely linear, the model is free to learn to predict values in any range.\n",
    "\n",
    "* The loss function: Note that we compile the model with the mse loss function—mean squared error, the square of the difference between the predictions and the targets. This is a widely used loss function for regression problems.\n",
    "\n",
    "* We’re also monitoring a new metric during training: mean absolute error (MAE). It’s the absolute value of the difference between the predictions and the targets. For instance, an MAE of 0.5 on this problem would mean your predictions are off by $500 on average."
   ]
  },
  {
   "cell_type": "markdown",
   "metadata": {},
   "source": [
    "Validating your approach using K-fold validation\n",
    "\n",
    "To evaluate our model while we keep adjusting its parameters (such as the number of epochs used for training), we could split the data into a training set and a validation set, as we did in the previous examples. But because we have so few data points, the validation set would end up being very small (for instance, about 100 examples). As a consequence, the validation scores might change a lot depending on which data points we chose for validation and which we chose for training: the validation scores might have a high variance with regard to the validation split. This would prevent us from reliably evaluating our model.\n",
    "\n",
    "The best practice in such situations is to use K-fold cross-validation "
   ]
  },
  {
   "cell_type": "code",
   "execution_count": 71,
   "metadata": {},
   "outputs": [],
   "source": [
    "def build_model():\n",
    "    model = tf.keras.Sequential([\n",
    "        tf.keras.layers.Dense(64,activation=\"relu\"),\n",
    "        tf.keras.layers.Dense(64,activation=\"relu\"),\n",
    "        tf.keras.layers.Dense(1),\n",
    "    ])\n",
    "    model.compile(optimizer=\"rmsprop\", loss=\"mse\" ,metrics=[\"mae\"])\n",
    "    return model\n",
    "\n",
    "\n",
    "def kfold(data, target, k , build_model, epochs , batch_size , v):\n",
    "    all_scores = []\n",
    "    size = len(data) // k\n",
    "    for i in range(k):\n",
    "        val_data = data[i*size:(i+1)*size]\n",
    "        val_target = target[i*size:(i+1)*size]\n",
    "        train_data = np.concatenate([data[:i*size], data[(i+1)*size:]])\n",
    "        train_target = np.concatenate([target[:i*size], target[(i+1)*size:]])\n",
    "        model = build_model()\n",
    "        model.fit(train_data , train_target  , epochs=epochs , batch_size=batch_size, verbose=0)\n",
    "        val_mse, val_mae = model.evaluate(val_data, val_target, verbose=0)\n",
    "        if(v):\n",
    "            print(\"MAE for fold {} = {}\".format(i+1 , val_mae))\n",
    "        all_scores.append(val_mae)\n",
    "    return np.mean(all_scores)"
   ]
  },
  {
   "cell_type": "code",
   "execution_count": 72,
   "metadata": {},
   "outputs": [
    {
     "name": "stdout",
     "output_type": "stream",
     "text": [
      "MAE for fold 1 = 2.9821274280548096\n",
      "MAE for fold 2 = 3.6640167236328125\n",
      "MAE for fold 3 = 2.979674816131592\n",
      "MAE for fold 4 = 2.883089780807495\n",
      "MAE for fold 5 = 3.7831242084503174\n",
      "Average mae =  3.2584065914154055\n"
     ]
    }
   ],
   "source": [
    "average_mae = kfold(train_data , train_labels, 5 , build_model, 10, 16 , True)\n",
    "print(\"Average mae = \" , average_mae)"
   ]
  },
  {
   "cell_type": "code",
   "execution_count": 76,
   "metadata": {},
   "outputs": [],
   "source": [
    "mae_array = []\n",
    "for i in range(300):\n",
    "    mae = kfold(train_data , train_labels, 5 , build_model, i+1, 16 , False)\n",
    "    mae_array.append(mae)"
   ]
  },
  {
   "cell_type": "code",
   "execution_count": 85,
   "metadata": {},
   "outputs": [
    {
     "data": {
      "text/plain": [
       "[<matplotlib.lines.Line2D at 0x167912e60>]"
      ]
     },
     "execution_count": 85,
     "metadata": {},
     "output_type": "execute_result"
    },
    {
     "data": {
      "image/png": "[encoded data removed]",
      "text/plain": [
       "<Figure size 2000x500 with 2 Axes>"
      ]
     },
     "metadata": {},
     "output_type": "display_data"
    }
   ],
   "source": [
    "import matplotlib.pyplot as plt\n",
    "fig, axis = plt.subplots(1,2, figsize=(20,5))\n",
    "axis[0].set_yscale(\"log\")\n",
    "axis[0].plot(range(300), mae_array)\n",
    "\n",
    "axis[1].plot(range(20,300), mae_array[20:])"
   ]
  },
  {
   "cell_type": "markdown",
   "metadata": {},
   "source": [
    "# Fundamentals of machine learning\n",
    "\n",
    "The fundamental issue in machine learning is the tension between optimization and generalization. Optimization refers to the process of adjusting a model to get the best performance possible on the training data (the learning in machine learning), whereas generalization refers to how well the trained model performs on data it has never seen before. The goal of the game is to get good generalization, of course, but you don’t control generalization; you can only fit the model to its training data. If you do that too well, overfitting kicks in and generalization suffers.\n",
    "\n",
    "<img src=\"images/overfitting.png\" width=\"50%\">\n",
    "\n",
    "At the beginning of training, optimization and generalization are correlated: the lower the loss on training data, the lower the loss on test data. While this is happening, your model is said to be underfit: there is still progress to be made; the network hasn’t yet modeled all relevant patterns in the training data. But after a certain number of iterations on the training data, generalization stops improving, validation metrics stall and then begin to degrade: the model is starting to overfit. That is, it’s beginning to learn patterns that are specific to the training data but that are misleading or irrele- vant when it comes to new data.\n",
    "\n",
    "\n",
    "Overfitting always happens during the training phase but some factors increase the chance of overfitting. \n",
    "It is particularly likely to occur when your data is noisy, if it involves uncertainty, or if it includes rare features. Let’s look at concrete examples.\n",
    "\n",
    "1. NOISY TRAINING DATA: If a model goes out of its way to incorporate many outliers, its generalization performance will degrade. We need robust fit but noisy data makes our learning process to overfit the model:\n",
    "\n",
    "<img src=\"./images/robust_fit_vs_overfit.png\" width=\"50%\">\n",
    "\n",
    "\n",
    "2. AMBIGUOUS FEATURES: Sometimes, noise comes from uncertainty and ambiguity. Let’s say you’re developing a model that takes an image of a banana and predicts whether the banana is unripe, ripe, or rotten. These categories have no objective boundaries, so the same picture might be classified as either unripe or ripe by different human labelers. Therefore, we have similar samples with different labels. This is called ambiguity in data. This ambiguity are is shown in the following picture. As you can see, a more robust fit helps us ignore individual data points in the area of uncertainty and look at the bigger picture.\n",
    "\n",
    "<img src=\"./images/uncertainty.png\" width=\"50%\">\n",
    "\n",
    "3. RARE FEATURES: If you’ve only ever seen two orange tabby cats in your life, and they both happened to be terribly antisocial, you might infer that orange tabby cats are generally likely to be antisocial. That’s overfitting: if you had been exposed to a wider variety of cats, including more orange ones, you’d have learned that cat color is not well correlated with character. Please pay attention that this is different from when we have noisy data. In noisy data, we have wrong labels or a sample with wrong values. It is also different from ambiguous features, as the color orange is not ambiguous.\n",
    "\n",
    "4. SPURIOUS CORRELATIONS: Importantly, a feature value doesn’t need to occur only a couple of times to lead to spurious correlations. Consider a word that occurs in 100 samples in your training data and that’s associated with a positive sentiment 54% of the time and with a negative sentiment 46% of the time. That difference may well be a complete statistical fluke, yet your model is likely to learn to leverage that feature for its classification task. This is one of the most common sources of overfitting. For example suppose we manipulate MNIST dataset and create two different datasets. The first one is created by adding zeros, while the second one is created using white noise. By training we find out that white noise reduces the accuracy of the model on the evaluation set. \n",
    "\n",
    "<img src=\"./images/white-noise.png\" width=\"50%\">\n",
    "\n",
    "Although concatenating white noise does not change the information that each sample holds, the accuracy has reduced compared with zero channels. This shows that, spurious correlation can happen even when the features are quite common in the data.\n",
    "\n",
    "\n"
   ]
  },
  {
   "cell_type": "markdown",
   "metadata": {},
   "source": [
    "## THE MANIFOLD HYPOTHESIS\n",
    "\n",
    "The manifold hypothesis implies that\n",
    "1. Machine learning models only have to fit relatively simple, low-dimensional, highly structured subspaces within their potential input space (latent manifolds).\n",
    "2. Within one of these manifolds, it’s always possible to interpolate between two inputs, that is to say, morph one into another via a continuous path along which all points fall on the manifold.\n",
    "The ability to interpolate between samples is the key to understanding generalization in deep learning.\n",
    "\n",
    "\n",
    "Machine learning is the process of interpolating between sample datas to model the natural data. \n",
    "\n",
    "TRAINING DATA IS PARAMOUNT\n",
    "\n",
    "While deep learning is indeed well suited to manifold learning, the power to general- ize is more a consequence of the natural structure of your data than a consequence of any property of your model.\n",
    "\n",
    "Dense sampling\n",
    "\n",
    "A “dense sampling” in this context means that the training data should densely cover the entirety of the input data manifold. This is especially true near decision boundaries. With a sufficiently dense sampling, it becomes possible to make sense of new inputs by interpolating between past training inputs without having to use common sense, abstract reasoning, or external knowledge about the world—all things that machine learning models have no access to.\n",
    "\n"
   ]
  },
  {
   "attachments": {},
   "cell_type": "markdown",
   "metadata": {},
   "source": [
    "## Improving model fit and generalization\n",
    "\n",
    "When you want to solve a problem by developing a model. You need to improve the model until you reach the best perfect tradeoff between model fiting and model generalization.\n",
    "\n",
    "Before you start working with a dataset, you should always pick a trivial baseline that you’ll try to beat. If you cross that threshold, you’ll know you’re doing something right: your model is actually using the information in the input data to make predictions that generalize, and you can keep going. This baseline could be the performance of a random classifier, or the performance of the simplest non-machine learning technique you can imagine.\n",
    "\n",
    "For instance, in the MNIST digit-classification example, a simple baseline would be a validation accuracy greater than 0.1 (random classifier); in the IMDB example, it would be a validation accuracy greater than 0.5. In the Reuters example, it would be around 0.18-0.19, due to class imbalance. If you have a binary classification problem where 90% of samples belong to class A and 10% belong to class B, then a classifier that always predicts A already achieves 0.9 in validation accuracy, and you’ll need to do better than that.\n",
    "\n",
    "Having a common-sense baseline you can refer to is essential when you’re getting started on a problem no one has solved before. If you can’t beat a trivial solution, your model is worthless—perhaps you’re using the wrong model, or perhaps the problem you’re tackling can’t even be approached with machine learning in the first place. Time to go back to the drawing board.\n",
    "\n",
    "\n",
    "### Improving model fit\n",
    "To achieve the perfect fit, you must first overfit. Since you don’t know in advance where the boundary lies, you must cross it to find it. Thus, your initial goal as you start working on a problem is to achieve a model that shows some generalization power and that is able to overfit. Once you have such a model, you’ll focus on refining generalization by fighting overfitting.\n",
    "\n",
    "There are three common problems you’ll encounter at this stage:\n",
    "1. Training doesn’t get started: your training loss doesn’t go down over time.\n",
    "\n",
    "2. Training gets started just fine, but your model doesn’t meaningfully generalize: you can’t beat the common-sense baseline you set.\n",
    "\n",
    "3. Training and validation loss both go down over time, and you can beat your baseline, but you don’t seem to be able to overfit, which indicates you’re still underfitting.\n",
    "\n",
    "According to this problems, we define three distinctive tasks for our fitting process:\n",
    "\n",
    "1. We try to find the best training parameters to help our model start fitting. \n",
    "\n",
    "2. We try different appropriate arcituctures to cross the baseline.\n",
    "\n",
    "3. We try to increase the capacity of our model and reach the overfit point.\n"
   ]
  },
  {
   "attachments": {},
   "cell_type": "markdown",
   "metadata": {},
   "source": [
    "#### Tuning key gradient descent parameters\n",
    "For the second problem, oyu have to tune the gradient descent parameters. Actually, The first problem is always something you can overcome: remember that you can fit a model to random data. Even if nothing about your problem makes sense, you should still be able to train something—if only by memorizing the training data.\n",
    "\n",
    "When this happens, it’s always a problem with the configuration of the gradient descent process: your choice of optimizer, the distribution of initial values in the weights of your model, your learning rate, or your batch size. All these parameters are interdependent, and as such it is usually sufficient to tune the learning rate and the batch size while keeping the rest of the parameters constant.\n",
    "\n",
    "For example, look at the accuracy of the following models on the same data from the MNISt dataset. The first one has not get trained at all because we have used an inappropriate training rate of 1. However, the second configuration works well andits accuracy starts growing."
   ]
  },
  {
   "cell_type": "code",
   "execution_count": 50,
   "metadata": {},
   "outputs": [],
   "source": [
    "(train_images, train_labels) , (test_images,test_labels) = tf.keras.datasets.fashion_mnist.load_data()\n",
    "train_images = train_images/ 256\n",
    "test_images = test_images/ 256"
   ]
  },
  {
   "cell_type": "code",
   "execution_count": 93,
   "metadata": {},
   "outputs": [
    {
     "name": "stdout",
     "output_type": "stream",
     "text": [
      "Epoch 1/10\n",
      "1875/1875 [==============================] - 5s 2ms/step - loss: 69.9407 - accuracy: 0.1048\n",
      "Epoch 2/10\n",
      "1875/1875 [==============================] - 4s 2ms/step - loss: 4.6945 - accuracy: 0.1014\n",
      "Epoch 3/10\n",
      "1875/1875 [==============================] - 4s 2ms/step - loss: 2.5735 - accuracy: 0.1012\n",
      "Epoch 4/10\n",
      "1875/1875 [==============================] - 4s 2ms/step - loss: 2.5089 - accuracy: 0.1028\n",
      "Epoch 5/10\n",
      "1875/1875 [==============================] - 4s 2ms/step - loss: 2.5105 - accuracy: 0.1041\n",
      "Epoch 6/10\n",
      "1875/1875 [==============================] - 4s 2ms/step - loss: 2.5059 - accuracy: 0.1063\n",
      "Epoch 7/10\n",
      "1875/1875 [==============================] - 4s 2ms/step - loss: 2.5077 - accuracy: 0.1045\n",
      "Epoch 8/10\n",
      "1875/1875 [==============================] - 4s 2ms/step - loss: 2.4998 - accuracy: 0.1066\n",
      "Epoch 9/10\n",
      "1875/1875 [==============================] - 4s 2ms/step - loss: 2.4946 - accuracy: 0.1071\n",
      "Epoch 10/10\n",
      "1875/1875 [==============================] - 4s 2ms/step - loss: 2.4960 - accuracy: 0.1057\n"
     ]
    },
    {
     "data": {
      "text/plain": [
       "<keras.callbacks.History at 0x13805cdc0>"
      ]
     },
     "execution_count": 93,
     "metadata": {},
     "output_type": "execute_result"
    }
   ],
   "source": [
    "model = tf.keras.Sequential([\n",
    "    tf.keras.layers.Flatten(input_shape=(28,28)),\n",
    "    tf.keras.layers.Dense(120,activation=\"relu\"),\n",
    "    tf.keras.layers.Dense(10,activation=\"softmax\")\n",
    "])\n",
    "model.compile(optimizer=tf.keras.optimizers.RMSprop(1) , loss=\"sparse_categorical_crossentropy\" , metrics=[\"accuracy\"])\n",
    "model.fit(train_images,train_labels,epochs=10)"
   ]
  },
  {
   "cell_type": "code",
   "execution_count": 94,
   "metadata": {},
   "outputs": [
    {
     "name": "stdout",
     "output_type": "stream",
     "text": [
      "Epoch 1/20\n",
      "1875/1875 [==============================] - 4s 2ms/step - loss: 0.5006 - accuracy: 0.8228\n",
      "Epoch 2/20\n",
      "1875/1875 [==============================] - 4s 2ms/step - loss: 0.3746 - accuracy: 0.8663\n",
      "Epoch 3/20\n",
      "1875/1875 [==============================] - 4s 2ms/step - loss: 0.3439 - accuracy: 0.8779\n",
      "Epoch 4/20\n",
      "1875/1875 [==============================] - 4s 2ms/step - loss: 0.3277 - accuracy: 0.8842\n",
      "Epoch 5/20\n",
      "1875/1875 [==============================] - 4s 2ms/step - loss: 0.3177 - accuracy: 0.8892\n",
      "Epoch 6/20\n",
      "1875/1875 [==============================] - 4s 2ms/step - loss: 0.3059 - accuracy: 0.8936\n",
      "Epoch 7/20\n",
      "1875/1875 [==============================] - 4s 2ms/step - loss: 0.3007 - accuracy: 0.8965\n",
      "Epoch 8/20\n",
      "1875/1875 [==============================] - 4s 2ms/step - loss: 0.2957 - accuracy: 0.8986\n",
      "Epoch 9/20\n",
      "1875/1875 [==============================] - 4s 2ms/step - loss: 0.2855 - accuracy: 0.9012\n",
      "Epoch 10/20\n",
      "1875/1875 [==============================] - 4s 2ms/step - loss: 0.2826 - accuracy: 0.9036\n",
      "Epoch 11/20\n",
      "1875/1875 [==============================] - 4s 2ms/step - loss: 0.2738 - accuracy: 0.9061\n",
      "Epoch 12/20\n",
      "1875/1875 [==============================] - 4s 2ms/step - loss: 0.2720 - accuracy: 0.9091\n",
      "Epoch 13/20\n",
      "1875/1875 [==============================] - 4s 2ms/step - loss: 0.2666 - accuracy: 0.9102\n",
      "Epoch 14/20\n",
      "1875/1875 [==============================] - 4s 2ms/step - loss: 0.2592 - accuracy: 0.9115\n",
      "Epoch 15/20\n",
      "1875/1875 [==============================] - 4s 2ms/step - loss: 0.2571 - accuracy: 0.9125\n",
      "Epoch 16/20\n",
      "1875/1875 [==============================] - 4s 2ms/step - loss: 0.2547 - accuracy: 0.9146\n",
      "Epoch 17/20\n",
      "1875/1875 [==============================] - 4s 2ms/step - loss: 0.2509 - accuracy: 0.9164\n",
      "Epoch 18/20\n",
      "1875/1875 [==============================] - 4s 2ms/step - loss: 0.2475 - accuracy: 0.9179\n",
      "Epoch 19/20\n",
      "1875/1875 [==============================] - 4s 2ms/step - loss: 0.2423 - accuracy: 0.9190\n",
      "Epoch 20/20\n",
      "1875/1875 [==============================] - 4s 2ms/step - loss: 0.2399 - accuracy: 0.9207\n"
     ]
    }
   ],
   "source": [
    "model = tf.keras.Sequential([\n",
    "    tf.keras.layers.Flatten(input_shape=(28,28)),\n",
    "    tf.keras.layers.Dense(120,activation=\"relu\"),\n",
    "    tf.keras.layers.Dense(10,activation=\"softmax\")\n",
    "])\n",
    "model.compile(optimizer=\"rmsprop\" , loss=\"sparse_categorical_crossentropy\" , metrics=[\"accuracy\"])\n",
    "history = model.fit(train_images,train_labels,epochs=20)"
   ]
  },
  {
   "attachments": {},
   "cell_type": "markdown",
   "metadata": {},
   "source": [
    "#### Modifying the arcitucture \n",
    "\n",
    "Sometimes, for some reason your validation metrics aren’t improving at all. They just work as good as a random classifier. In other words, your model fits to the training data. Remember that the model can fit even to completely random data in machine learning. But there is something wrong that its accurcay does not grow up over time. You have reached the baseline because your hyper paramters are good, but yo can not improve it to work better than that. There are two treasons that may lead to this:\n",
    "\n",
    "First, it may be that the input data you’re using simply doesn’t contain sufficient information to predict your target. For example lets shuffle the labels in the MNIST dataset and try to train the exactly same model."
   ]
  },
  {
   "cell_type": "code",
   "execution_count": 40,
   "metadata": {},
   "outputs": [
    {
     "data": {
      "text/plain": [
       "array([9, 9, 1, ..., 8, 7, 5], dtype=uint8)"
      ]
     },
     "execution_count": 40,
     "metadata": {},
     "output_type": "execute_result"
    }
   ],
   "source": [
    "labels = np.copy(train_labels)\n",
    "np.random.shuffle(labels)"
   ]
  },
  {
   "cell_type": "code",
   "execution_count": 48,
   "metadata": {},
   "outputs": [
    {
     "name": "stdout",
     "output_type": "stream",
     "text": [
      "[9 0 0 ... 3 0 5]\n",
      "[9 9 1 ... 8 7 5]\n"
     ]
    }
   ],
   "source": [
    "print(train_labels)\n",
    "print(labels)"
   ]
  },
  {
   "attachments": {},
   "cell_type": "markdown",
   "metadata": {},
   "source": [
    "Then, we use the same parameters to train the model on the shuffeled data"
   ]
  },
  {
   "cell_type": "code",
   "execution_count": 49,
   "metadata": {},
   "outputs": [
    {
     "name": "stdout",
     "output_type": "stream",
     "text": [
      "Epoch 1/10\n",
      "1875/1875 [==============================] - 4s 2ms/step - loss: 2.3108 - accuracy: 0.1018\n",
      "Epoch 2/10\n",
      "1875/1875 [==============================] - 4s 2ms/step - loss: 2.3048 - accuracy: 0.1006\n",
      "Epoch 3/10\n",
      "1875/1875 [==============================] - 4s 2ms/step - loss: 2.3047 - accuracy: 0.1010\n",
      "Epoch 4/10\n",
      "1875/1875 [==============================] - 4s 2ms/step - loss: 2.3036 - accuracy: 0.1043\n",
      "Epoch 5/10\n",
      "1875/1875 [==============================] - 4s 2ms/step - loss: 2.3035 - accuracy: 0.1059\n",
      "Epoch 6/10\n",
      "1875/1875 [==============================] - 3s 2ms/step - loss: 2.3025 - accuracy: 0.1068\n",
      "Epoch 7/10\n",
      "1875/1875 [==============================] - 3s 2ms/step - loss: 2.3011 - accuracy: 0.1082\n",
      "Epoch 8/10\n",
      "1875/1875 [==============================] - 4s 2ms/step - loss: 2.2996 - accuracy: 0.1085\n",
      "Epoch 9/10\n",
      "1875/1875 [==============================] - 4s 2ms/step - loss: 2.2981 - accuracy: 0.1110\n",
      "Epoch 10/10\n",
      "1875/1875 [==============================] - 4s 2ms/step - loss: 2.2959 - accuracy: 0.1114\n"
     ]
    },
    {
     "data": {
      "text/plain": [
       "<keras.callbacks.History at 0x13197dd80>"
      ]
     },
     "execution_count": 49,
     "metadata": {},
     "output_type": "execute_result"
    }
   ],
   "source": [
    "model = tf.keras.Sequential([\n",
    "    tf.keras.layers.Flatten(input_shape=(28,28)),\n",
    "    tf.keras.layers.Dense(120,activation=\"relu\"),\n",
    "    tf.keras.layers.Dense(10,activation=\"softmax\")\n",
    "])\n",
    "model.compile(optimizer=\"rmsprop\" , loss=\"sparse_categorical_crossentropy\" , metrics=[\"accuracy\"])\n",
    "model.fit(train_images,labels,epochs=10)"
   ]
  },
  {
   "attachments": {},
   "cell_type": "markdown",
   "metadata": {},
   "source": [
    "You can see that the accuracy does not grow up. This is because there is no information in the data to be learned."
   ]
  },
  {
   "attachments": {},
   "cell_type": "markdown",
   "metadata": {},
   "source": [
    "However, the dataset has almost always something to be modeled. This is a very rare situation that you come across to a dataset that is completely rubish! It may also be that the kind of model you’re using is not suited for the problem at hand. "
   ]
  },
  {
   "attachments": {},
   "cell_type": "markdown",
   "metadata": {},
   "source": [
    "#### Increasing the capacity of the model\n",
    "Looking at the accuracy of the best model of us, we can see that the accuracy went up very  wel, but it never reached a turning point. Therefore we have not reached an overfit yet. We have acheived a model that has crossed the baseline classifier, has started learning the information and a resulted a good accuracy."
   ]
  },
  {
   "cell_type": "code",
   "execution_count": 95,
   "metadata": {},
   "outputs": [
    {
     "data": {
      "text/plain": [
       "[<matplotlib.lines.Line2D at 0x1380e1ed0>]"
      ]
     },
     "execution_count": 95,
     "metadata": {},
     "output_type": "execute_result"
    },
    {
     "data": {
      "image/png": "[encoded data removed]",
      "text/plain": [
       "<Figure size 640x480 with 1 Axes>"
      ]
     },
     "metadata": {},
     "output_type": "display_data"
    }
   ],
   "source": [
    "fix, axis = plt.subplots(1,1)\n",
    "axis.plot(history.history[\"loss\"])"
   ]
  },
  {
   "attachments": {},
   "cell_type": "markdown",
   "metadata": {},
   "source": [
    "However, we always have to find an overfit. The final try will be changing the structure of the neural network to help it contain more information. Increasing the capacity of the NN is actually increasing the number of weights it can hold. We do thid bu adding extra layers and neorons.\n",
    "\n",
    "To overfit data:\n",
    "\n",
    "1. Add layers.\n",
    "2. Make the layers bigger.\n",
    "3. Train for more epochs."
   ]
  },
  {
   "cell_type": "code",
   "execution_count": 90,
   "metadata": {},
   "outputs": [
    {
     "name": "stdout",
     "output_type": "stream",
     "text": [
      "Epoch 1/20\n",
      "1875/1875 [==============================] - 8s 4ms/step - loss: 0.5333 - accuracy: 0.8090\n",
      "Epoch 2/20\n",
      "1875/1875 [==============================] - 7s 4ms/step - loss: 0.4378 - accuracy: 0.8499\n",
      "Epoch 3/20\n",
      "1875/1875 [==============================] - 7s 4ms/step - loss: 0.4338 - accuracy: 0.8586\n",
      "Epoch 4/20\n",
      "1875/1875 [==============================] - 7s 4ms/step - loss: 0.4204 - accuracy: 0.8612\n",
      "Epoch 5/20\n",
      "1875/1875 [==============================] - 7s 4ms/step - loss: 0.4156 - accuracy: 0.8654\n",
      "Epoch 6/20\n",
      "1875/1875 [==============================] - 7s 4ms/step - loss: 0.4114 - accuracy: 0.8673\n",
      "Epoch 7/20\n",
      "1875/1875 [==============================] - 7s 4ms/step - loss: 0.4119 - accuracy: 0.8712\n",
      "Epoch 8/20\n",
      "1875/1875 [==============================] - 7s 4ms/step - loss: 0.4173 - accuracy: 0.8719\n",
      "Epoch 9/20\n",
      "1875/1875 [==============================] - 7s 4ms/step - loss: 0.4041 - accuracy: 0.8745\n",
      "Epoch 10/20\n",
      "1875/1875 [==============================] - 7s 4ms/step - loss: 0.4160 - accuracy: 0.8750\n",
      "Epoch 11/20\n",
      "1875/1875 [==============================] - 7s 4ms/step - loss: 0.4186 - accuracy: 0.8756\n",
      "Epoch 12/20\n",
      "1875/1875 [==============================] - 7s 4ms/step - loss: 0.4155 - accuracy: 0.8757\n",
      "Epoch 13/20\n",
      "1875/1875 [==============================] - 7s 4ms/step - loss: 0.4249 - accuracy: 0.8750\n",
      "Epoch 14/20\n",
      "1875/1875 [==============================] - 7s 4ms/step - loss: 0.4262 - accuracy: 0.8724\n",
      "Epoch 15/20\n",
      "1875/1875 [==============================] - 8s 4ms/step - loss: 0.4371 - accuracy: 0.8744\n",
      "Epoch 16/20\n",
      "1875/1875 [==============================] - 7s 4ms/step - loss: 0.4493 - accuracy: 0.8749\n",
      "Epoch 17/20\n",
      "1875/1875 [==============================] - 8s 4ms/step - loss: 0.4218 - accuracy: 0.8736\n",
      "Epoch 18/20\n",
      "1875/1875 [==============================] - 7s 4ms/step - loss: 0.4507 - accuracy: 0.8730\n",
      "Epoch 19/20\n",
      "1875/1875 [==============================] - 7s 4ms/step - loss: 0.4647 - accuracy: 0.8745\n",
      "Epoch 20/20\n",
      "1875/1875 [==============================] - 7s 4ms/step - loss: 0.4619 - accuracy: 0.8733\n"
     ]
    }
   ],
   "source": [
    "model = tf.keras.Sequential([\n",
    "    tf.keras.layers.Flatten(input_shape=(28,28)),\n",
    "    tf.keras.layers.Dense(240, activation=\"relu\"),\n",
    "    tf.keras.layers.Dense(240, activation=\"relu\"),\n",
    "    tf.keras.layers.Dense(240, activation=\"relu\"),\n",
    "    tf.keras.layers.Dense(240, activation=\"relu\"),\n",
    "    tf.keras.layers.Dense(10, activation=\"softmax\"),\n",
    "])\n",
    "model.compile(optimizer=\"rmsprop\",\n",
    "              loss=\"sparse_categorical_crossentropy\",\n",
    "              metrics=[\"accuracy\"])\n",
    "history = model.fit(train_images,train_labels,epochs=20)"
   ]
  },
  {
   "cell_type": "code",
   "execution_count": 91,
   "metadata": {},
   "outputs": [
    {
     "data": {
      "text/plain": [
       "[<matplotlib.lines.Line2D at 0x1375a2770>]"
      ]
     },
     "execution_count": 91,
     "metadata": {},
     "output_type": "execute_result"
    },
    {
     "data": {
      "image/png": "[encoded data removed]",
      "text/plain": [
       "<Figure size 640x480 with 1 Axes>"
      ]
     },
     "metadata": {},
     "output_type": "display_data"
    }
   ],
   "source": [
    "fix, axis = plt.subplots(1,1)\n",
    "axis.plot(history.history[\"loss\"])"
   ]
  },
  {
   "attachments": {},
   "cell_type": "markdown",
   "metadata": {},
   "source": [
    "The char shows that we can reach the overfit point after 8 epochs, by adding three layers to the network. In fact, the representational power of the model increases, when we increase the number of the neurons."
   ]
  },
  {
   "attachments": {},
   "cell_type": "markdown",
   "metadata": {},
   "source": [
    "### Improving generalization\n",
    "\n",
    "Once your model has shown itself to have some generalization power and to be able to overfit, it’s time to switch your focus to maximizing generalization.\n",
    "\n",
    "Generalization in deep learning originates from the latent structure of your data. If your data makes it possible to smoothly interpolate between samples, you will be able to train a deep learning model that generalizes.\n",
    "\n",
    "If your problem is overly noisy or fundamentally discrete, like, say, list sorting, deep learning will not help you. Deep learning is curve fitting, not magic.\n",
    "\n",
    "We already mentioned that there are four problems that prevent generalization.\n",
    "1. Noisy data\n",
    "2. Ambiguous features\n",
    "3. Rare features\n",
    "4. Spurious features\n",
    "\n",
    "To solve these problems we perform the following tasks:\n",
    "1. gathering more data for dense sampling\n",
    "2. Proofreading labels\n",
    "3. Data cleaning\n",
    "4. Feature selection\n",
    "\n",
    "\n"
   ]
  },
  {
   "attachments": {},
   "cell_type": "markdown",
   "metadata": {},
   "source": [
    "#### Feature engineering\n",
    "\n",
    "Feature engineering is the process of using your own knowledge about the data and about the machine learning algorithm at hand (in this case, a neural network) to make the algorithm work better by applying hardcoded (non-learned) transformations to the data before it goes into the model. In many cases, it isn’t reasonable to expect a machine learning model to be able to learn from completely arbitrary data. The data needs to be presented to the model in a way that will make the model’s job easier.\n",
    "\n",
    "That’s the essence of feature engineering: making a problem easier by expressing it in a simpler way. Make the latent manifold smoother, simpler, better organized. Doing so usually requires understanding the problem in depth.\n",
    "\n",
    "Before deep learning, feature engineering used to be the most important part of the machine learning workflow, because classical shallow algorithms didn’t have hypothesis spaces rich enough to learn useful features by themselves. The way you pre- sented the data to the algorithm was absolutely critical to its success. For instance, before convolutional neural networks became successful on the MNIST digit-classifi- cation problem, solutions were typically based on hardcoded features such as the number of loops in a digit image, the height of each digit in an image, a histogram of pixel values, and so on.\n",
    "\n",
    "\n",
    "Fortunately, modern deep learning removes the need for most feature engineer- ing, because neural networks are capable of automatically extracting useful features from raw data. Does this mean you don’t have to worry about feature engineering as long as you’re using deep neural networks? No, for two reasons:\n",
    "\n",
    "* Good features still allow you to solve problems more elegantly while using fewer resources. For instance, it would be ridiculous to solve the problem of reading a clock face using a convolutional neural network.\n",
    "\n",
    "* Good features let you solve a problem with far less data. The ability of deep learning models to learn features on their own relies on having lots of training data available; if you have only a few samples, the information value in their fea- tures becomes critical.\n",
    "\n",
    "\n",
    "#### Using early stopping\n",
    "\n",
    "EarlyStopping callback,\n",
    "\n",
    "#### Regularizing the model\n",
    "\n",
    "1. REDUCING THE NETWORK’S SIZE:\n",
    "2. ADDING WEIGHT REGULARIZATION: (L1, L2 regularization) kernel_regularizer=regularizers.l2(0.002)\n",
    "3. ADDING DROPOUT: layers.Dropout(0.5),\n",
    "\n",
    "## Summary \n",
    "\n",
    "* When you start working on a model, your goal is first to achieve a model that has some generalization power and that can overfit. Best practices for doing this include tuning your learning rate and batch size, leveraging better architec- ture priors, increasing model capacity, or simply training longer.\n",
    "\n",
    "* As your model starts overfitting, your goal switches to improving generalization through model regularization. You can reduce your model’s capacity, add dropout or weight regularization, and use early stopping. And naturally, a larger or better dataset is always the number one way to help a model generalize. "
   ]
  },
  {
   "attachments": {},
   "cell_type": "markdown",
   "metadata": {},
   "source": [
    "# Machine learning workflow\n",
    "\n",
    "## collecting dataset\n",
    "\n",
    "### Concept drift\n",
    "You’ll encounter concept drift in almost all real-world problems, especially those that deal with user- generated data. Concept drift occurs when the properties of the production data change over time, causing model accuracy to gradually decay. A music recommenda- tion engine trained in the year 2013 may not be very effective today.\n",
    "\n",
    "Likewise, the IMDB dataset you worked with was collected in 2011, and a model trained on it would likely not perform as well on reviews from 2020 compared to reviews from 2012, as vocabulary, expressions, and movie genres evolve over time.\n",
    "\n",
    "Dealing with fast concept drift requires constant data collection, annotation, and model retraining.\n",
    "\n",
    "### sampling bias\n",
    "\n",
    "Sampling bias occurs when your data collection process interacts with what you are trying to predict, resulting in biased measurements\n",
    "\n",
    "### Choose a measure of success\n",
    "\n",
    "For balanced classification problems, where every class is equally likely, accuracy and the area under a receiver operating characteristic (ROC) curve, abbreviated as ROC AUC, are common metrics. For class-imbalanced problems, ranking problems, or multilabel classification, you can use precision and recall, as well as a weighted form of accuracy or ROC AUC. And it isn’t uncommon to have to define your own custom metric by which to measure success. To get a sense of the diversity of machine learning success metrics and how they relate to different problem domains, it’s helpful to browse the data science competitions on Kaggle (https://kaggle.com); they showcase a wide range of problems and evaluation metrics.\n",
    "\n",
    "## Develop a model\n",
    "\n",
    "### Preparing the data\n",
    "\n",
    "Data preparation method are two types. The first one is domain specific preprocessing. For example text data and image data need different preperation. However, the second category is general. We have some preparation taska that are applicable for all sorts of data:\n",
    "1. Vectorization: Whatever data you need to process—sound, images, text you must first turn into tensors, a step called data vectorization.\n",
    "2. Value normalization: In general, it isn’t safe to feed into a neural network data that takes relatively large values (for example, multi-digit integers, which are much larger than the initial values taken by the weights of a network) or data that is heterogeneous (for example, data where one feature is in the range 0–1 and another is in the range 100–200). Doing so can trigger large gradient updates that will prevent the network from converging. To make learning easier for your network, your data should have the following characteristics:\n",
    "    * Take small values—Typically, most values should be in the 0–1 range.\n",
    "    * Be homogenous—All features should take values in roughly the same range.\n",
    "\n",
    "    Additionally, the following stricter normalization practice is common and can help, although it isn’t always necessary (for example, we didn’t do this in the digit-classifica- tion example):\n",
    "    * Normalize each feature independently to have a mean of 0. <code>x -= x.mean(axis=0)</code>\n",
    "    * Normalize each feature independently to have a standard deviation of 1. <code>x /= x.std(axis=0)</code>\n",
    "3. Handling missing values:\n",
    "    * If the feature is categorical, it’s safe to create a new category that means “the value is missing.” The model will automatically learn what this implies with respect to the targets.\n",
    "    * If the feature is numerical, avoid inputting an arbitrary value like \"0\", because it may create a discontinuity in the latent space formed by your features, mak- ing it harder for a model trained on it to generalize. Instead, consider replac- ing the missing value with the average or median value for the feature in the dataset. You could also train a model to predict the feature value given the val- ues of other features.\n",
    "\n",
    "    Note that if you’re expecting missing categorial features in the test data, but the network was trained on data without any missing values, the network won’t have learned to ignore missing values! In this situation, you should artificially generate training samples with missing entries: copy some training samples several times, and drop some of the categorical features that you expect are likely to be missing in the test data.\n",
    "\n",
    "\n",
    "### Beat a baseline\n",
    "As you start working on the model itself, your initial goal is to achieve statistical power with a trivial model. You have to select features and a structure for your model that can beat the baseline classifier on your data.\n",
    "\n",
    "If you failed to beat the baseline, review the first hypothesies. Remember that:\n",
    "* You hypothesize that your outputs can be predicted given your inputs.\n",
    "* You hypothesize that the available data is sufficiently informative to learn the\n",
    "\n",
    "\n",
    "\n",
    "### Scale up: Develop a model that overfits\n",
    "\n",
    "Once you’ve obtained a model that has statistical power, the question becomes, is your model sufficiently powerful? You have to develop the model by increasing the capacity of it by:\n",
    "\n",
    "1. Add layers.\n",
    "2. Make the layers bigger.\n",
    "3. Train for more epochs.\n",
    "\n",
    "\n",
    "### Regularize and tune your model\n",
    "\n",
    "Once you’ve achieved statistical power and you’re able to overfit, you know you’re on the right path. At this point, your goal becomes to maximize generalization performance.\n",
    "\n",
    "Use the following mehotd to generalize the model:\n",
    "    1. Try different architectures; add or remove layers.\n",
    "    2. Add dropout.\n",
    "    3. If your model is small, add L1 or L2 regularization.\n",
    "    4. Try different hyperparameters (such as the number of units per layer or the learning rate of the optimizer) to find the optimal configuration.\n",
    "    5. Optionally, iterate on data curation or feature engineering: collect and anno- tate more data, develop better features, or remove features that don’t seem to\n",
    "be informative.\n",
    "\n",
    "Once you’ve developed a satisfactory model configuration, you can train your final production model on all the available data (training and validation) and evalu- ate it one last time on the test set. If it turns out that performance on the test set is significantly worse than the performance measured on the validation data, this may mean either that your validation procedure wasn’t reliable after all, or that you began overfitting to the validation data while tuning the parameters of the model. In this case, you may want to switch to a more reliable evaluation protocol (such as iterated K-fold validation).\n",
    "\n",
    "## Deploy the model\n",
    "\n",
    "Optimizing your model for inference is especially important when deploying in an environment with strict constraints on available power and memory (smartphones and embedded devices) or for applications with low latency requirements. You should always seek to optimize your model before importing into TensorFlow.js or exporting it to TensorFlow Lite.\n",
    "\n",
    "There are two popular optimization techniques you can apply:\n",
    "\n",
    "* Weight pruning—Not every coefficient in a weight tensor contributes equally to the predictions. It’s possible to considerably lower the number of parameters in the layers of your model by only keeping the most significant ones. This reduces the memory and compute footprint of your model, at a small cost in performance metrics. By deciding how much pruning you want to apply, you are in control of the trade-off between size and accuracy.\n",
    "\n",
    "* Weight quantization—Deep learning models are trained with single-precision floating-point (float32) weights. However, it’s possible to quantize weights to 8-bit signed integers (int8) to get an inference-only model that’s a quarter the size but remains near the accuracy of the original model.\n",
    "The TensorFlow ecosystem includes a weight pruning and quantization toolkit (www .tensorflow.org/model_optimization) that is deeply integrated with the Keras API.\n",
    "\n"
   ]
  },
  {
   "attachments": {},
   "cell_type": "markdown",
   "metadata": {},
   "source": [
    "# Keras: deep dive\n",
    "\n",
    "Different ways to build Keras models\n",
    "There are three APIs for building models in Keras:\n",
    "\n",
    "1. The Sequential model, the most approachable API—it’s basically a Python list. As such, it’s limited to simple stacks of layers.\n",
    "2. The Functional API, which focuses on graph-like model architectures. It rep- resents a nice mid-point between usability and flexibility, and as such, it’s the most commonly used model-building API.\n",
    "3. Model subclassing, a low-level option where you write everything yourself from scratch. This is ideal if you want full control over every little thing. However, you won’t get access to many built-in Keras features, and you will be more at risk of making mistakes."
   ]
  },
  {
   "attachments": {},
   "cell_type": "markdown",
   "metadata": {},
   "source": [
    "## The sequential model\n",
    "The simplest way to build a Keras model is to use the Sequential model, which you already know about."
   ]
  },
  {
   "cell_type": "code",
   "execution_count": null,
   "metadata": {},
   "outputs": [],
   "source": [
    "import tensorflow as tf"
   ]
  },
  {
   "attachments": {},
   "cell_type": "markdown",
   "metadata": {},
   "source": [
    "In this approach we simply pass the netwrok structur as a python list:"
   ]
  },
  {
   "cell_type": "code",
   "execution_count": 4,
   "metadata": {},
   "outputs": [],
   "source": [
    "model1 = tf.keras.Sequential([\n",
    "    tf.keras.layers.Dense(64),\n",
    "    tf.keras.layers.Dense(10)\n",
    "])"
   ]
  },
  {
   "attachments": {},
   "cell_type": "markdown",
   "metadata": {},
   "source": [
    "It is also possible to use the add method to create the same model:"
   ]
  },
  {
   "cell_type": "code",
   "execution_count": 5,
   "metadata": {},
   "outputs": [],
   "source": [
    "model2 = tf.keras.Sequential()\n",
    "model2.add(tf.keras.layers.Dense(64))\n",
    "model2.add(tf.keras.layers.Dense(10))"
   ]
  },
  {
   "attachments": {},
   "cell_type": "markdown",
   "metadata": {},
   "source": [
    "In the following code we use the summary method to print both models. However, we first need to Build the model first by calling `build()` or by calling the model on a batch of data:"
   ]
  },
  {
   "cell_type": "code",
   "execution_count": 6,
   "metadata": {},
   "outputs": [],
   "source": [
    "model1.build(input_shape=(None,3))\n",
    "model2.build(input_shape=(None,3))"
   ]
  },
  {
   "attachments": {},
   "cell_type": "markdown",
   "metadata": {},
   "source": [
    "You can see that both models are equal, the only thing that differs is the name of the model:"
   ]
  },
  {
   "cell_type": "code",
   "execution_count": 8,
   "metadata": {},
   "outputs": [
    {
     "name": "stdout",
     "output_type": "stream",
     "text": [
      "Model: \"sequential_1\"\n",
      "_________________________________________________________________\n",
      " Layer (type)                Output Shape              Param #   \n",
      "=================================================================\n",
      " dense_2 (Dense)             (None, 64)                256       \n",
      "                                                                 \n",
      " dense_3 (Dense)             (None, 10)                650       \n",
      "                                                                 \n",
      "=================================================================\n",
      "Total params: 906\n",
      "Trainable params: 906\n",
      "Non-trainable params: 0\n",
      "_________________________________________________________________\n",
      "None\n",
      "Model: \"sequential_2\"\n",
      "_________________________________________________________________\n",
      " Layer (type)                Output Shape              Param #   \n",
      "=================================================================\n",
      " dense_4 (Dense)             (None, 64)                256       \n",
      "                                                                 \n",
      " dense_5 (Dense)             (None, 10)                650       \n",
      "                                                                 \n",
      "=================================================================\n",
      "Total params: 906\n",
      "Trainable params: 906\n",
      "Non-trainable params: 0\n",
      "_________________________________________________________________\n",
      "None\n"
     ]
    }
   ],
   "source": [
    "print(model1.summary())\n",
    "print(model2.summary())"
   ]
  },
  {
   "attachments": {},
   "cell_type": "markdown",
   "metadata": {},
   "source": [
    "Despite, the weights are different because the model is always initialized with random weights."
   ]
  },
  {
   "cell_type": "code",
   "execution_count": 37,
   "metadata": {},
   "outputs": [
    {
     "name": "stdout",
     "output_type": "stream",
     "text": [
      "tf.Tensor(\n",
      "[-0.06775422 -0.19093534 -0.21812984  0.12338623  0.0663327   0.15892798\n",
      " -0.10903206  0.09251344  0.07081196 -0.217424   -0.16687007  0.17748958\n",
      " -0.13472243 -0.10709435 -0.03846568  0.1570397  -0.19483228 -0.13649534\n",
      " -0.2394887   0.13166034 -0.19519144  0.00191569 -0.02829167 -0.27368882\n",
      "  0.1158058   0.21965247 -0.19949919  0.15521097 -0.119019   -0.01391652\n",
      " -0.20205057  0.19069561  0.07642886 -0.1565145  -0.02835897 -0.00901759\n",
      " -0.24508148  0.10334888  0.06167564  0.16822633  0.03038779 -0.16882014\n",
      "  0.23144579 -0.12189765  0.2405743   0.20355564 -0.2595927   0.1493854\n",
      " -0.22195593  0.03591409  0.19639036 -0.07977748 -0.11676584 -0.18863247\n",
      "  0.0816049  -0.24266595  0.08917221 -0.25482312  0.16796333  0.04324281\n",
      " -0.02281848  0.08483517  0.16370833 -0.25576377], shape=(64,), dtype=float32)\n",
      "tf.Tensor(\n",
      "[ 0.23147792  0.05583322  0.04089862  0.22092438  0.24281728  0.0777005\n",
      "  0.27601296  0.12617415  0.0698646  -0.21956515  0.15236884  0.21393824\n",
      "  0.14203134 -0.1178671  -0.18905728 -0.06103009  0.24697131 -0.26484522\n",
      " -0.04626858  0.2809608   0.18864152  0.24382496 -0.08113858  0.2343669\n",
      " -0.01013768 -0.24423388  0.19398946 -0.09350081  0.16870642 -0.02096322\n",
      " -0.25108474  0.13763568  0.10145247  0.08836088 -0.03060982 -0.27925926\n",
      " -0.21844992  0.28347784 -0.04480803 -0.17650804  0.20020896  0.09412754\n",
      " -0.09634557  0.11630473  0.23651737 -0.21372828  0.19048065  0.19930449\n",
      " -0.02578011  0.2382527   0.26608872 -0.00701404  0.1950416  -0.14044784\n",
      " -0.1400326  -0.07496946 -0.12880501 -0.00265497  0.08281752  0.14329737\n",
      "  0.10584441 -0.22465214  0.29373068 -0.17048347], shape=(64,), dtype=float32)\n"
     ]
    }
   ],
   "source": [
    "print(model1.weights[0][1])\n",
    "print(model2.weights[0][1])"
   ]
  },
  {
   "attachments": {},
   "cell_type": "markdown",
   "metadata": {},
   "source": [
    "We can also change the name of the model"
   ]
  },
  {
   "cell_type": "code",
   "execution_count": 38,
   "metadata": {},
   "outputs": [
    {
     "name": "stdout",
     "output_type": "stream",
     "text": [
      "Model: \"example_model\"\n",
      "_________________________________________________________________\n",
      " Layer (type)                Output Shape              Param #   \n",
      "=================================================================\n",
      " dense_6 (Dense)             (None, 64)                256       \n",
      "                                                                 \n",
      " dense_7 (Dense)             (None, 10)                650       \n",
      "                                                                 \n",
      "=================================================================\n",
      "Total params: 906\n",
      "Trainable params: 906\n",
      "Non-trainable params: 0\n",
      "_________________________________________________________________\n"
     ]
    }
   ],
   "source": [
    "model = tf.keras.Sequential(name=\"example_model\")\n",
    "model.add(tf.keras.layers.Dense(64))\n",
    "model.add(tf.keras.layers.Dense(10))\n",
    "model.build(input_shape=(None,3))\n",
    "model.summary()"
   ]
  },
  {
   "attachments": {},
   "cell_type": "markdown",
   "metadata": {},
   "source": [
    "Sometimes you need to get the summary of the model when you add the layers incrementally. In this scenario, you can set the input shape for the model so you do not need to build the model as it gets built on the fly:"
   ]
  },
  {
   "cell_type": "code",
   "execution_count": 39,
   "metadata": {},
   "outputs": [
    {
     "name": "stdout",
     "output_type": "stream",
     "text": [
      "Model: \"test_model\"\n",
      "_________________________________________________________________\n",
      " Layer (type)                Output Shape              Param #   \n",
      "=================================================================\n",
      " dense_8 (Dense)             (None, None, 10)          40        \n",
      "                                                                 \n",
      "=================================================================\n",
      "Total params: 40\n",
      "Trainable params: 40\n",
      "Non-trainable params: 0\n",
      "_________________________________________________________________\n"
     ]
    }
   ],
   "source": [
    "model = tf.keras.Sequential(name=\"test_model\")\n",
    "model.add(tf.keras.Input(shape=(None,3)))\n",
    "model.add(tf.keras.layers.Dense(10))\n",
    "model.summary()"
   ]
  },
  {
   "attachments": {},
   "cell_type": "markdown",
   "metadata": {},
   "source": [
    "## The functional API\n",
    "\n",
    "The Sequential model is easy to use, but its applicability is extremely limited: it can only express models with a single input and a single output, applying one layer after the other in a sequential fashion. In practice, it’s pretty common to encounter models with multiple inputs (say, an image and its metadata), multiple outputs (different things you want to predict about the data), or a nonlinear topology.\n",
    "\n",
    "In such cases, you’d build your model using the Functional API. This is what most Keras models you’ll encounter in the wild use. It’s fun and powerful. it feels like playing with LEGO bricks."
   ]
  },
  {
   "cell_type": "code",
   "execution_count": null,
   "metadata": {},
   "outputs": [],
   "source": []
  }
 ],
 "metadata": {
  "kernelspec": {
   "display_name": "Python 3.10.2 ('.nn-nb': venv)",
   "language": "python",
   "name": "python3"
  },
  "language_info": {
   "codemirror_mode": {
    "name": "ipython",
    "version": 3
   },
   "file_extension": ".py",
   "mimetype": "text/x-python",
   "name": "python",
   "nbconvert_exporter": "python",
   "pygments_lexer": "ipython3",
   "version": "3.10.2"
  },
  "orig_nbformat": 4,
  "vscode": {
   "interpreter": {
    "hash": "1427500b84313c10956110794cf644389cd301d191854e975d703d0940fde275"
   }
  }
 },
 "nbformat": 4,
 "nbformat_minor": 2
}

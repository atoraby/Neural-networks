{
 "cells": [
  {
   "cell_type": "markdown",
   "metadata": {},
   "source": [
    "# Neural Network\n",
    "\n",
    "Neural network is similar to a function that gives several inputs and returns a result. A neural network may have several layers. \n",
    "\n",
    "\n",
    "\n",
    "1.   Input layer: The first layer is called the input layer. The number of nodes in the input layer is rela†ed to the number of the features in our dataset.\n",
    "2.   Output layer: The final layer is called the output layer. this layer may have only one node which indicates the final out put. For example a range between 0 and 1. If the final value is close to 0 the predicted label is 0 and if it is close to 1 the second label is seleted as a result. It can also include more than one node. For example, 6 nodes for the 6 corresponding lables in our dataset. Each one have a value between 0 and 1 that indicates the probability of that label. \n",
    "3. Headen layers: The layers that we do not observe.\n"
   ]
  },
  {
   "cell_type": "markdown",
   "metadata": {},
   "source": [
    "## Densely connected Neural network (DNN)\n",
    "\n",
    "In a densely connected neural netweork each node in a layer is connected to all nodes in the previous layer.\n",
    "\n",
    "<img src=\"https://raw.githubusercontent.com/atoraby/Neural-networks/6fe35ddc2b3865077353a6c4849a05b7687e32a4/images/nn.png?token=GHSAT0AAAAAABZC2IUFPP2S4VBO2RJB4LAMYZMOKQQ\" width=\"50%\" />\n",
    "\n",
    "Neural network has a linear function and an activation function. The linear function calculates the input value of the nodes, and activation function calculates the out value of the nodes to the next layer.\n",
    "\n",
    "<img src=\"https://raw.githubusercontent.com/atoraby/Neural-networks/6fe35ddc2b3865077353a6c4849a05b7687e32a4/images/node.png?token=GHSAT0AAAAAABZC2IUFZJOBOKCYZFEKCLF4YZMOLDQ\" width=\"30%\" />\n",
    "\n",
    "The b is a constant called the bias. This bias is added to the weighted sum of the all values from the previous layer. The activation function uses this value to activte the next layer. \n",
    "\n",
    "There are many activation functions with different features.\n",
    "\n",
    "\n",
    "<div style=\"margin-top:1em; display: grid; grid-template-columns: 1fr 1fr; gap: 1em;\">\n",
    "\n",
    " <div>\n",
    "  <img src=\"https://raw.githubusercontent.com/atoraby/Neural-networks/6fe35ddc2b3865077353a6c4849a05b7687e32a4/images/uler.png?token=GHSAT0AAAAAABZC2IUETUHPQSAMORUEYKTUYZMONWQ\" width=\"50%\" />\n",
    "  <p>For example, the following is called Rectified linear function:</p>\n",
    " </div>\n",
    "\n",
    " <div>\n",
    "  <img src=\"https://raw.githubusercontent.com/atoraby/Neural-networks/6fe35ddc2b3865077353a6c4849a05b7687e32a4/images/sigmoid.png?token=GHSAT0AAAAAABZC2IUESLJCACNJYDEVMHVQYZMOMUQ\" width=\"50%\" />\n",
    "  <p>However, the sigmoid function is more famous. This very useful when we need our final output to be between 0 and 1.</p>\n",
    " </div>\n",
    "\n",
    "</div>\n"
   ]
  },
  {
   "cell_type": "markdown",
   "metadata": {},
   "source": [
    "## Loss function\n",
    "\n",
    "\n",
    "1.   Mean squared error\n",
    "2.   Mean absolute error\n",
    "3.   Hinge Loss\n",
    "\n"
   ]
  },
  {
   "cell_type": "markdown",
   "metadata": {},
   "source": [
    "## Optimizers\n",
    "\n",
    "Optimizer is a function that defines how to change the wieghts and learning rate of your neural network to reduce the losses. Optimization algorithms or strategies are responsible for reducing the losses and to provide the most accurate results possible.\n",
    "\n",
    "There are different optimizers. Gradient descent, stochastic gradient descent, adagrad and so. However, the best optimizer is called adam.\n",
    "\n",
    "\n"
   ]
  },
  {
   "cell_type": "code",
   "execution_count": null,
   "metadata": {},
   "outputs": [],
   "source": [
    "import tensorflow as tf\n",
    "tf.estimator.DNNClassifier()"
   ]
  },
  {
   "cell_type": "code",
   "execution_count": null,
   "metadata": {},
   "outputs": [],
   "source": []
  },
  {
   "cell_type": "code",
   "execution_count": null,
   "metadata": {},
   "outputs": [],
   "source": []
  },
  {
   "cell_type": "markdown",
   "metadata": {},
   "source": [
    "# Optimizaers "
   ]
  }
 ],
 "metadata": {
  "kernelspec": {
   "display_name": "Python 3.9.7 ('.nn-nb': venv)",
   "language": "python",
   "name": "python3"
  },
  "language_info": {
   "codemirror_mode": {
    "name": "ipython",
    "version": 3
   },
   "file_extension": ".py",
   "mimetype": "text/x-python",
   "name": "python",
   "nbconvert_exporter": "python",
   "pygments_lexer": "ipython3",
   "version": "3.9.7"
  },
  "orig_nbformat": 4,
  "vscode": {
   "interpreter": {
    "hash": "1427500b84313c10956110794cf644389cd301d191854e975d703d0940fde275"
   }
  }
 },
 "nbformat": 4,
 "nbformat_minor": 2
}

{
 "cells": [
  {
   "attachments": {},
   "cell_type": "markdown",
   "metadata": {},
   "source": [
    "# What is times series?\n",
    "\n",
    "Time series is a type of data that is sampled based on time dimension like days, weeks or months. \n",
    "\n",
    "<h3>Different problems</h3>\n",
    "There are different problems related to time series:\n",
    "\n",
    "1. prediction or forcasting\n",
    "2. Imputation (Projecting back into the past or filling holes - the missing data)\n",
    "3. Detect anomalies\n",
    "4. Detecting patterns: Detecting whether the time series is stationary or is following a trend. We can also analyse the seasonality of the data.\n",
    "\n",
    "<h3>patterns</h3>\n",
    "\n",
    "1. trends: upside or downward trends\n",
    "2. seasonalities: repeated patterns\n",
    "3. Combination of trends and seasonalities\n",
    "4. random values. \n",
    "5. Auto correlation\n",
    "\n",
    "In reality time series are the combination of all of these patterns: Trend + seasonality + Auto correlation + Noise"
   ]
  },
  {
   "attachments": {},
   "cell_type": "markdown",
   "metadata": {},
   "source": [
    "## A temperature forecasting example\n",
    "\n",
    "Forcasting is the most common problem when it comes to time series. Here, we start with a very popular dataset called The Jena Climate dataset recorded by the Max Planck Institute for Biogeochemistry.\n",
    "The dataset can be downloaded from the following link:\n",
    "\n",
    "https://s3.amazonaws.com/keras-datasets/jena_climate_2009_2016.csv.zip\n",
    "\n",
    "The dataset consists of 14 features such as temperature, pressure, humidity etc, recorded once per 10 minutes."
   ]
  },
  {
   "cell_type": "code",
   "execution_count": 79,
   "metadata": {},
   "outputs": [
    {
     "data": {
      "text/html": [
       "<div>\n",
       "<style scoped>\n",
       "    .dataframe tbody tr th:only-of-type {\n",
       "        vertical-align: middle;\n",
       "    }\n",
       "\n",
       "    .dataframe tbody tr th {\n",
       "        vertical-align: top;\n",
       "    }\n",
       "\n",
       "    .dataframe thead th {\n",
       "        text-align: right;\n",
       "    }\n",
       "</style>\n",
       "<table border=\"1\" class=\"dataframe\">\n",
       "  <thead>\n",
       "    <tr style=\"text-align: right;\">\n",
       "      <th></th>\n",
       "      <th>Date Time</th>\n",
       "      <th>p (mbar)</th>\n",
       "      <th>T (degC)</th>\n",
       "      <th>Tpot (K)</th>\n",
       "      <th>Tdew (degC)</th>\n",
       "      <th>rh (%)</th>\n",
       "      <th>VPmax (mbar)</th>\n",
       "      <th>VPact (mbar)</th>\n",
       "      <th>VPdef (mbar)</th>\n",
       "      <th>sh (g/kg)</th>\n",
       "      <th>H2OC (mmol/mol)</th>\n",
       "      <th>rho (g/m**3)</th>\n",
       "      <th>wv (m/s)</th>\n",
       "      <th>max. wv (m/s)</th>\n",
       "      <th>wd (deg)</th>\n",
       "    </tr>\n",
       "  </thead>\n",
       "  <tbody>\n",
       "    <tr>\n",
       "      <th>0</th>\n",
       "      <td>01.01.2009 00:10:00</td>\n",
       "      <td>996.52</td>\n",
       "      <td>-8.02</td>\n",
       "      <td>265.40</td>\n",
       "      <td>-8.90</td>\n",
       "      <td>93.3</td>\n",
       "      <td>3.33</td>\n",
       "      <td>3.11</td>\n",
       "      <td>0.22</td>\n",
       "      <td>1.94</td>\n",
       "      <td>3.12</td>\n",
       "      <td>1307.75</td>\n",
       "      <td>1.03</td>\n",
       "      <td>1.75</td>\n",
       "      <td>152.3</td>\n",
       "    </tr>\n",
       "    <tr>\n",
       "      <th>1</th>\n",
       "      <td>01.01.2009 00:20:00</td>\n",
       "      <td>996.57</td>\n",
       "      <td>-8.41</td>\n",
       "      <td>265.01</td>\n",
       "      <td>-9.28</td>\n",
       "      <td>93.4</td>\n",
       "      <td>3.23</td>\n",
       "      <td>3.02</td>\n",
       "      <td>0.21</td>\n",
       "      <td>1.89</td>\n",
       "      <td>3.03</td>\n",
       "      <td>1309.80</td>\n",
       "      <td>0.72</td>\n",
       "      <td>1.50</td>\n",
       "      <td>136.1</td>\n",
       "    </tr>\n",
       "    <tr>\n",
       "      <th>2</th>\n",
       "      <td>01.01.2009 00:30:00</td>\n",
       "      <td>996.53</td>\n",
       "      <td>-8.51</td>\n",
       "      <td>264.91</td>\n",
       "      <td>-9.31</td>\n",
       "      <td>93.9</td>\n",
       "      <td>3.21</td>\n",
       "      <td>3.01</td>\n",
       "      <td>0.20</td>\n",
       "      <td>1.88</td>\n",
       "      <td>3.02</td>\n",
       "      <td>1310.24</td>\n",
       "      <td>0.19</td>\n",
       "      <td>0.63</td>\n",
       "      <td>171.6</td>\n",
       "    </tr>\n",
       "    <tr>\n",
       "      <th>3</th>\n",
       "      <td>01.01.2009 00:40:00</td>\n",
       "      <td>996.51</td>\n",
       "      <td>-8.31</td>\n",
       "      <td>265.12</td>\n",
       "      <td>-9.07</td>\n",
       "      <td>94.2</td>\n",
       "      <td>3.26</td>\n",
       "      <td>3.07</td>\n",
       "      <td>0.19</td>\n",
       "      <td>1.92</td>\n",
       "      <td>3.08</td>\n",
       "      <td>1309.19</td>\n",
       "      <td>0.34</td>\n",
       "      <td>0.50</td>\n",
       "      <td>198.0</td>\n",
       "    </tr>\n",
       "    <tr>\n",
       "      <th>4</th>\n",
       "      <td>01.01.2009 00:50:00</td>\n",
       "      <td>996.51</td>\n",
       "      <td>-8.27</td>\n",
       "      <td>265.15</td>\n",
       "      <td>-9.04</td>\n",
       "      <td>94.1</td>\n",
       "      <td>3.27</td>\n",
       "      <td>3.08</td>\n",
       "      <td>0.19</td>\n",
       "      <td>1.92</td>\n",
       "      <td>3.09</td>\n",
       "      <td>1309.00</td>\n",
       "      <td>0.32</td>\n",
       "      <td>0.63</td>\n",
       "      <td>214.3</td>\n",
       "    </tr>\n",
       "  </tbody>\n",
       "</table>\n",
       "</div>"
      ],
      "text/plain": [
       "             Date Time  p (mbar)  T (degC)  Tpot (K)  Tdew (degC)  rh (%)  \\\n",
       "0  01.01.2009 00:10:00    996.52     -8.02    265.40        -8.90    93.3   \n",
       "1  01.01.2009 00:20:00    996.57     -8.41    265.01        -9.28    93.4   \n",
       "2  01.01.2009 00:30:00    996.53     -8.51    264.91        -9.31    93.9   \n",
       "3  01.01.2009 00:40:00    996.51     -8.31    265.12        -9.07    94.2   \n",
       "4  01.01.2009 00:50:00    996.51     -8.27    265.15        -9.04    94.1   \n",
       "\n",
       "   VPmax (mbar)  VPact (mbar)  VPdef (mbar)  sh (g/kg)  H2OC (mmol/mol)  \\\n",
       "0          3.33          3.11          0.22       1.94             3.12   \n",
       "1          3.23          3.02          0.21       1.89             3.03   \n",
       "2          3.21          3.01          0.20       1.88             3.02   \n",
       "3          3.26          3.07          0.19       1.92             3.08   \n",
       "4          3.27          3.08          0.19       1.92             3.09   \n",
       "\n",
       "   rho (g/m**3)  wv (m/s)  max. wv (m/s)  wd (deg)  \n",
       "0       1307.75      1.03           1.75     152.3  \n",
       "1       1309.80      0.72           1.50     136.1  \n",
       "2       1310.24      0.19           0.63     171.6  \n",
       "3       1309.19      0.34           0.50     198.0  \n",
       "4       1309.00      0.32           0.63     214.3  "
      ]
     },
     "execution_count": 79,
     "metadata": {},
     "output_type": "execute_result"
    }
   ],
   "source": [
    "import pandas as pd\n",
    "df = pd.read_csv(\"files/jena_climate_2009_2016.csv\")\n",
    "df.head()"
   ]
  },
  {
   "attachments": {},
   "cell_type": "markdown",
   "metadata": {},
   "source": [
    "The following picture shows the plot of temperature (in degrees Celsius) over time. The plot clearly shows the seasonality, trend and the noise in the data. The whole time series spans over 8 years.\n"
   ]
  },
  {
   "cell_type": "code",
   "execution_count": 80,
   "metadata": {},
   "outputs": [
    {
     "data": {
      "text/plain": [
       "<AxesSubplot: >"
      ]
     },
     "execution_count": 80,
     "metadata": {},
     "output_type": "execute_result"
    },
    {
     "data": {
      "image/png": "[encoded data removed]",
      "text/plain": [
       "<Figure size 640x480 with 1 Axes>"
      ]
     },
     "metadata": {},
     "output_type": "display_data"
    }
   ],
   "source": [
    "df[\"T (degC)\"].plot()"
   ]
  },
  {
   "attachments": {},
   "cell_type": "markdown",
   "metadata": {},
   "source": [
    "* Periodicity: The temperature goes up and down every year.\n",
    "* Trend: The upward trend is visible as the minimum and the maximum temperates are slightly larger every year.\n",
    "* Noise: It can be clearly seen that the temperature data is noisy. Although it goes through a vivid pattern, it also fluctuates a lot between the measurments. It does not mov smoothly.\n",
    "\n",
    "\n",
    "In this example, we will target a single problem: predicting the temperature 24 hours in the future, given a timeseries of hourly measurements of quantities such as atmospheric pressure and humidity, recorded over the recent past by a set of sensors on the roof of a building. "
   ]
  },
  {
   "attachments": {},
   "cell_type": "markdown",
   "metadata": {},
   "source": [
    "### Baseline forcasting\n",
    "First, we try to create a model that predicts the next temperature value without using machine learning. This will be our baseline when we use machine learning approach.\n",
    "\n",
    "We start by removing the date field and converting the pandas dataframe to a nupy array:"
   ]
  },
  {
   "cell_type": "code",
   "execution_count": 81,
   "metadata": {},
   "outputs": [],
   "source": [
    "import numpy as np\n",
    "raw_data = np.zeros([df.values.shape[0] , df.values.shape[1]-1])\n",
    "raw_data[:] = df.values[:,1:]"
   ]
  },
  {
   "attachments": {},
   "cell_type": "markdown",
   "metadata": {},
   "source": [
    "The following print shows that nothing has changed yet, we just dropped the date field and converted it to a numpy array:"
   ]
  },
  {
   "cell_type": "code",
   "execution_count": 82,
   "metadata": {},
   "outputs": [
    {
     "data": {
      "text/plain": [
       "(Date Time          01.01.2009 00:10:00\n",
       " p (mbar)                        996.52\n",
       " T (degC)                         -8.02\n",
       " Tpot (K)                         265.4\n",
       " Tdew (degC)                       -8.9\n",
       " rh (%)                            93.3\n",
       " VPmax (mbar)                      3.33\n",
       " VPact (mbar)                      3.11\n",
       " VPdef (mbar)                      0.22\n",
       " sh (g/kg)                         1.94\n",
       " H2OC (mmol/mol)                   3.12\n",
       " rho (g/m**3)                   1307.75\n",
       " wv (m/s)                          1.03\n",
       " max. wv (m/s)                     1.75\n",
       " wd (deg)                         152.3\n",
       " Name: 0, dtype: object,\n",
       " array([ 9.96520e+02, -8.02000e+00,  2.65400e+02, -8.90000e+00,\n",
       "         9.33000e+01,  3.33000e+00,  3.11000e+00,  2.20000e-01,\n",
       "         1.94000e+00,  3.12000e+00,  1.30775e+03,  1.03000e+00,\n",
       "         1.75000e+00,  1.52300e+02]))"
      ]
     },
     "execution_count": 82,
     "metadata": {},
     "output_type": "execute_result"
    }
   ],
   "source": [
    "df.iloc[0] , raw_data[0]"
   ]
  },
  {
   "attachments": {},
   "cell_type": "markdown",
   "metadata": {},
   "source": [
    "Then, we need to create a train, validation and text datasets. Before that, we create an array called temperature that keeps our target values:"
   ]
  },
  {
   "cell_type": "code",
   "execution_count": 83,
   "metadata": {},
   "outputs": [
    {
     "data": {
      "text/plain": [
       "(420451,)"
      ]
     },
     "execution_count": 83,
     "metadata": {},
     "output_type": "execute_result"
    }
   ],
   "source": [
    "temperature = df[\"T (degC)\"].to_numpy()\n",
    "temperature.shape"
   ]
  },
  {
   "attachments": {},
   "cell_type": "markdown",
   "metadata": {},
   "source": [
    "Now, we split the raw data into three arrays. We use the first 50% of the data samples to create the model. The next 25% samples for validation and the rest will be used for testing.\n",
    "There is an important reason why we did not flush the data, and just used the data in order. This is because the in time series we are not allowed to use information that is gathered from the data samples in the future!"
   ]
  },
  {
   "cell_type": "code",
   "execution_count": 84,
   "metadata": {},
   "outputs": [],
   "source": [
    "num_train_samples = int(0.5 * len(raw_data))\n",
    "num_val_samples = int(0.25 * len(raw_data))\n",
    "num_test_samples = len(raw_data) - num_train_samples - num_val_samples"
   ]
  },
  {
   "attachments": {},
   "cell_type": "markdown",
   "metadata": {},
   "source": [
    "To create the datasets, we use the <code>timeseries_dataset_from_array</code> function from keras. This function needs the a few parameters to create a BatchDataSet. For example, consider a time series containing the numbers from 1 to 20."
   ]
  },
  {
   "cell_type": "code",
   "execution_count": 85,
   "metadata": {},
   "outputs": [
    {
     "data": {
      "text/plain": [
       "array([ 1,  2,  3,  4,  5,  6,  7,  8,  9, 10, 11, 12, 13, 14, 15, 16, 17,\n",
       "       18, 19])"
      ]
     },
     "execution_count": 85,
     "metadata": {},
     "output_type": "execute_result"
    }
   ],
   "source": [
    "sample_raw_data = np.array(range(1,20))\n",
    "sample_raw_data"
   ]
  },
  {
   "cell_type": "code",
   "execution_count": 86,
   "metadata": {},
   "outputs": [],
   "source": [
    "import tensorflow as tf"
   ]
  },
  {
   "cell_type": "code",
   "execution_count": 87,
   "metadata": {},
   "outputs": [],
   "source": [
    "sample_train_set = tf.keras.utils.timeseries_dataset_from_array(\n",
    "    data=sample_raw_data[:-1],\n",
    "    targets=sample_raw_data[5:],\n",
    "    sampling_rate=2,\n",
    "    batch_size=5,\n",
    "    sequence_length=3,\n",
    ")"
   ]
  },
  {
   "attachments": {},
   "cell_type": "markdown",
   "metadata": {},
   "source": [
    "By running the above code, we create a batch data set. Batch dataset is a specific type of tensorflow dataset that contains multiple batches of data: We can iterate through the batches to see what is inside each batch:"
   ]
  },
  {
   "cell_type": "code",
   "execution_count": 88,
   "metadata": {},
   "outputs": [
    {
     "name": "stdout",
     "output_type": "stream",
     "text": [
      "\n",
      "Sequences =  tf.Tensor(\n",
      "[[1 3 5]\n",
      " [2 4 6]\n",
      " [3 5 7]\n",
      " [4 6 8]\n",
      " [5 7 9]], shape=(5, 3), dtype=int64)\n",
      "Targets =  tf.Tensor([ 6  7  8  9 10], shape=(5,), dtype=int64)\n",
      "\n",
      "Sequences =  tf.Tensor(\n",
      "[[ 6  8 10]\n",
      " [ 7  9 11]\n",
      " [ 8 10 12]\n",
      " [ 9 11 13]\n",
      " [10 12 14]], shape=(5, 3), dtype=int64)\n",
      "Targets =  tf.Tensor([11 12 13 14 15], shape=(5,), dtype=int64)\n",
      "\n",
      "Sequences =  tf.Tensor(\n",
      "[[11 13 15]\n",
      " [12 14 16]\n",
      " [13 15 17]], shape=(3, 3), dtype=int64)\n",
      "Targets =  tf.Tensor([16 17 18], shape=(3,), dtype=int64)\n"
     ]
    }
   ],
   "source": [
    "for batch in sample_train_set:\n",
    "    print()\n",
    "    print(\"Sequences = \" , batch[0])\n",
    "    print(\"Targets = \" , batch[1])"
   ]
  },
  {
   "attachments": {},
   "cell_type": "markdown",
   "metadata": {},
   "source": [
    "As you can see, each batch is actually a tuple containing a tensor od samples and an array of target values. The function has created a batch dataset that contains batches of size 5, meaning that each batch has 5 samples in it. The samples are sequences with length 3. Something very nice about this function is that it even handles sampling rate for us. Sampling rate is a value that is taken into account when the sequences of numbers are generated. It can be seen that the sampling rate of 2 means that only one number of two numbers is kept during the sequence generation.\n",
    "\n",
    "The data and target parameters are easy to understand. The point is that the target value is kept in the second value of the tuple.\n",
    "\n",
    "There is another parameter called shuffle that is used to shuffle the sequences. Lets run the same code with shuffle = True:"
   ]
  },
  {
   "cell_type": "code",
   "execution_count": 89,
   "metadata": {},
   "outputs": [
    {
     "name": "stdout",
     "output_type": "stream",
     "text": [
      "\n",
      "Sequences =  tf.Tensor(\n",
      "[[ 9 11 13]\n",
      " [ 8 10 12]\n",
      " [ 4  6  8]\n",
      " [12 14 16]\n",
      " [13 15 17]], shape=(5, 3), dtype=int64)\n",
      "Targets =  tf.Tensor([14 13  9 17 18], shape=(5,), dtype=int64)\n",
      "\n",
      "Sequences =  tf.Tensor(\n",
      "[[ 5  7  9]\n",
      " [10 12 14]\n",
      " [ 1  3  5]\n",
      " [ 3  5  7]\n",
      " [ 6  8 10]], shape=(5, 3), dtype=int64)\n",
      "Targets =  tf.Tensor([10 15  6  8 11], shape=(5,), dtype=int64)\n",
      "\n",
      "Sequences =  tf.Tensor(\n",
      "[[ 2  4  6]\n",
      " [11 13 15]\n",
      " [ 7  9 11]], shape=(3, 3), dtype=int64)\n",
      "Targets =  tf.Tensor([ 7 16 12], shape=(3,), dtype=int64)\n"
     ]
    }
   ],
   "source": [
    "sample_train_set = tf.keras.utils.timeseries_dataset_from_array(\n",
    "    data=sample_raw_data[:-1],\n",
    "    targets=sample_raw_data[5:],\n",
    "    sampling_rate=2,\n",
    "    batch_size=5,\n",
    "    sequence_length=3,\n",
    "    shuffle=True\n",
    ")\n",
    "\n",
    "for batch in sample_train_set:\n",
    "    print()\n",
    "    print(\"Sequences = \" , batch[0])\n",
    "    print(\"Targets = \" , batch[1])"
   ]
  },
  {
   "attachments": {},
   "cell_type": "markdown",
   "metadata": {},
   "source": [
    "The new one is very similar to the last one. However, in the last one the sequences are randomly distributed to different batches. \n",
    "\n",
    "Lets run the same function and create a batch dataset for the Jena climate dataset:"
   ]
  },
  {
   "cell_type": "code",
   "execution_count": 101,
   "metadata": {},
   "outputs": [],
   "source": [
    "sampling_rate = 6\n",
    "sequence_length = 120\n",
    "delay = sampling_rate * (sequence_length + 24 - 1)\n",
    "batch_size = 256"
   ]
  },
  {
   "attachments": {},
   "cell_type": "markdown",
   "metadata": {},
   "source": [
    "*   <code>sampling_rate = 6</code>: means that we only keep one data point out of 6. It gives us one data point every hour because measurement is done every 10 minuts. \n",
    "*   <code>squence_length = 120</code>: This means that we use sequences of 120 data points in a row to build a model. Not clear enough? In other words, we can consider the 120 recent measurements to pedict the next value.\n",
    "*   <code>delay = sampling_rate*(sequence_length+24-1)</code>: The target for a sequence will be the temperature 24 hours after the end of the sequence."
   ]
  },
  {
   "cell_type": "code",
   "execution_count": 145,
   "metadata": {},
   "outputs": [],
   "source": [
    "from tensorflow import keras\n",
    "\n",
    "train_dataset = keras.utils.timeseries_dataset_from_array(\n",
    "    raw_data[:-delay],\n",
    "    targets=temperature[delay:],\n",
    "    sampling_rate=sampling_rate,\n",
    "    sequence_length=sequence_length,\n",
    "    shuffle=True,\n",
    "    batch_size=batch_size,\n",
    "    start_index=0,\n",
    "    end_index=num_train_samples)\n",
    "val_dataset = keras.utils.timeseries_dataset_from_array(\n",
    "    raw_data[:-delay],\n",
    "    targets=temperature[delay:],\n",
    "    sampling_rate=sampling_rate,\n",
    "    sequence_length=sequence_length,\n",
    "    shuffle=True,\n",
    "    batch_size=batch_size,\n",
    "    start_index=num_train_samples,\n",
    "    end_index=num_train_samples + num_val_samples)\n",
    "test_dataset = keras.utils.timeseries_dataset_from_array(\n",
    "    raw_data[:-delay],\n",
    "    targets=temperature[delay:],\n",
    "    sampling_rate=sampling_rate,\n",
    "    sequence_length=sequence_length,\n",
    "    shuffle=True,\n",
    "    batch_size=batch_size,\n",
    "    start_index=num_train_samples + num_val_samples)"
   ]
  },
  {
   "attachments": {},
   "cell_type": "markdown",
   "metadata": {},
   "source": [
    "The first heuristic that helps us create a prediction model is that the temperature of the tommorrow is usually close the the current value. It very rarely changes drastically during a day. Therefore the first thing that comes to mind is that we predict the temperature according to the current value."
   ]
  },
  {
   "cell_type": "code",
   "execution_count": 92,
   "metadata": {},
   "outputs": [],
   "source": [
    "def evaluate_naive_method(dataset):\n",
    "    total_abs_err = 0.\n",
    "    samples_seen = 0\n",
    "    for samples, targets in dataset:\n",
    "        preds = samples[:, -1, 1]\n",
    "        total_abs_err += np.sum(np.abs(preds - targets))\n",
    "        samples_seen += samples.shape[0]\n",
    "    return total_abs_err / samples_seen"
   ]
  },
  {
   "attachments": {},
   "cell_type": "markdown",
   "metadata": {},
   "source": [
    "samples[:, -1, 1] means all sequences, the last value and the second column which is the temperature. In other words, we use the last temperature in the sequence of the measurements as for the next prediction. Then we calculate the total absolute error for test and the validation sets"
   ]
  },
  {
   "cell_type": "code",
   "execution_count": 93,
   "metadata": {},
   "outputs": [
    {
     "data": {
      "text/plain": [
       "2.621898451761204"
      ]
     },
     "execution_count": 93,
     "metadata": {},
     "output_type": "execute_result"
    }
   ],
   "source": [
    "evaluate_naive_method(test_dataset)"
   ]
  },
  {
   "cell_type": "code",
   "execution_count": 94,
   "metadata": {},
   "outputs": [
    {
     "data": {
      "text/plain": [
       "2.441735748565516"
      ]
     },
     "execution_count": 94,
     "metadata": {},
     "output_type": "execute_result"
    }
   ],
   "source": [
    "evaluate_naive_method(val_dataset)"
   ]
  },
  {
   "attachments": {},
   "cell_type": "markdown",
   "metadata": {},
   "source": [
    "#### Moving Average\n",
    "\n",
    "I guess by reducing noise and smoothing the predictions we might acheive better performance. Therefore I use moving average to predict better values."
   ]
  },
  {
   "cell_type": "code",
   "execution_count": 95,
   "metadata": {},
   "outputs": [],
   "source": [
    "def evaluate_ma_method(dataset):\n",
    "    total_abs_err = 0.\n",
    "    samples_seen = 0\n",
    "    for samples, targets in dataset:\n",
    "        last_measurments = samples[:, -2:, 1]\n",
    "        preds = np.mean(last_measurments, axis=1)\n",
    "        total_abs_err += np.sum(np.abs(preds - targets))\n",
    "        samples_seen += samples.shape[0]\n",
    "    return total_abs_err / samples_seen"
   ]
  },
  {
   "cell_type": "code",
   "execution_count": 96,
   "metadata": {},
   "outputs": [
    {
     "data": {
      "text/plain": [
       "2.467302117958099"
      ]
     },
     "execution_count": 96,
     "metadata": {},
     "output_type": "execute_result"
    }
   ],
   "source": [
    "evaluate_ma_method(val_dataset)"
   ]
  },
  {
   "attachments": {},
   "cell_type": "markdown",
   "metadata": {},
   "source": [
    "However, the result of the test does not look promising. The total absolute error grows despite my initial supposition. Lets try another popular technique!"
   ]
  },
  {
   "attachments": {},
   "cell_type": "markdown",
   "metadata": {},
   "source": [
    "#### Differencing\n",
    "\n"
   ]
  },
  {
   "cell_type": "code",
   "execution_count": 24,
   "metadata": {},
   "outputs": [],
   "source": [
    "period = 51000"
   ]
  },
  {
   "cell_type": "code",
   "execution_count": 25,
   "metadata": {},
   "outputs": [
    {
     "data": {
      "text/plain": [
       "(369451, 3)"
      ]
     },
     "execution_count": 25,
     "metadata": {},
     "output_type": "execute_result"
    }
   ],
   "source": [
    "diff = np.array([temperature[period:] - temperature[:-period], temperature[:-period] , temperature[period:]]).T\n",
    "diff.shape"
   ]
  },
  {
   "cell_type": "code",
   "execution_count": 26,
   "metadata": {},
   "outputs": [
    {
     "data": {
      "text/plain": [
       "[<matplotlib.lines.Line2D at 0x12900f460>]"
      ]
     },
     "execution_count": 26,
     "metadata": {},
     "output_type": "execute_result"
    },
    {
     "data": {
      "image/png": "[encoded data removed]",
      "text/plain": [
       "<Figure size 640x480 with 1 Axes>"
      ]
     },
     "metadata": {},
     "output_type": "display_data"
    }
   ],
   "source": [
    "import matplotlib.pyplot as plt\n",
    "plt.plot(diff[:,0])"
   ]
  },
  {
   "cell_type": "code",
   "execution_count": 31,
   "metadata": {},
   "outputs": [],
   "source": [
    "val_diff_dataset = keras.utils.timeseries_dataset_from_array(\n",
    "    data=diff[:-delay],\n",
    "    targets=diff[delay:],\n",
    "    sampling_rate=sampling_rate,\n",
    "    sequence_length=sequence_length,\n",
    "    shuffle=True,\n",
    "    batch_size=batch_size,\n",
    "    start_index=num_train_samples,\n",
    "    end_index=num_train_samples + num_val_samples)"
   ]
  },
  {
   "cell_type": "code",
   "execution_count": 32,
   "metadata": {},
   "outputs": [],
   "source": [
    "def evaluate_diff_method(dataset):\n",
    "    total_abs_err = 0.\n",
    "    samples_seen = 0\n",
    "    for samples, targets in dataset:\n",
    "        last_measurments = samples[:,-2:,0]\n",
    "        preds = np.mean(last_measurments, axis=1)\n",
    "        preds = preds + samples[:,-1,1]\n",
    "        total_abs_err += np.sum(np.abs(preds - targets[:,2]))\n",
    "        samples_seen += samples.shape[0]\n",
    "    return total_abs_err / samples_seen"
   ]
  },
  {
   "cell_type": "code",
   "execution_count": 33,
   "metadata": {},
   "outputs": [
    {
     "data": {
      "text/plain": [
       "2.6682176965888496"
      ]
     },
     "execution_count": 33,
     "metadata": {},
     "output_type": "execute_result"
    }
   ],
   "source": [
    "evaluate_diff_method(val_diff_dataset)"
   ]
  },
  {
   "attachments": {},
   "cell_type": "markdown",
   "metadata": {},
   "source": [
    "Neither moving average nor differencing method can better the performance of the baseline. Therefore, we set 2.44 as our target mae. "
   ]
  },
  {
   "attachments": {},
   "cell_type": "markdown",
   "metadata": {},
   "source": [
    "### Using statis neural network\n",
    "\n",
    "Now the game is to use your knowledge of deep learning to do better. better than 2.44 on the validation set. You need to beat the baeline.\n",
    "\n",
    "First I try to use the same heuristic for training a neural network. This means that I have to create a dataset that includes only temperatures:"
   ]
  },
  {
   "cell_type": "code",
   "execution_count": 107,
   "metadata": {},
   "outputs": [],
   "source": [
    "t_train_dataset = keras.utils.timeseries_dataset_from_array(\n",
    "    data=temperature[:-delay],\n",
    "    targets=temperature[delay:],\n",
    "    sampling_rate=sampling_rate,\n",
    "    sequence_length=sequence_length,\n",
    "    shuffle=True,\n",
    "    batch_size=batch_size,\n",
    "    start_index=0,\n",
    "    end_index=num_train_samples)\n",
    "t_val_dataset = keras.utils.timeseries_dataset_from_array(\n",
    "    data=temperature[:-delay],\n",
    "    targets=temperature[delay:],\n",
    "    sampling_rate=sampling_rate,\n",
    "    sequence_length=sequence_length,\n",
    "    shuffle=True,\n",
    "    batch_size=batch_size,\n",
    "    start_index=num_train_samples,\n",
    "    end_index=num_train_samples + num_val_samples)\n",
    "t_test_dataset = keras.utils.timeseries_dataset_from_array(\n",
    "    data=temperature[:-delay],\n",
    "    targets=temperature[delay:],\n",
    "    sampling_rate=sampling_rate,\n",
    "    sequence_length=sequence_length,\n",
    "    shuffle=True,\n",
    "    batch_size=batch_size,\n",
    "    start_index=num_train_samples + num_val_samples)"
   ]
  },
  {
   "cell_type": "code",
   "execution_count": null,
   "metadata": {},
   "outputs": [],
   "source": [
    "model1 = keras.Sequential([\n",
    "    keras.layers.Input(shape=(sequence_length, 1)),\n",
    "    keras.layers.Flatten(),\n",
    "    keras.layers.Dense(1)\n",
    "])\n",
    "model1.compile(optimizer=\"rmsprop\", loss=\"mse\", metrics=[\"mae\"])\n",
    "history1 = model1.fit(t_train_dataset, validation_data=t_val_dataset, epochs=10)"
   ]
  },
  {
   "cell_type": "code",
   "execution_count": 173,
   "metadata": {},
   "outputs": [
    {
     "data": {
      "text/plain": [
       "[<matplotlib.lines.Line2D at 0x135c964c0>]"
      ]
     },
     "execution_count": 173,
     "metadata": {},
     "output_type": "execute_result"
    },
    {
     "data": {
      "image/png": "[encoded data removed]",
      "text/plain": [
       "<Figure size 640x480 with 1 Axes>"
      ]
     },
     "metadata": {},
     "output_type": "display_data"
    }
   ],
   "source": [
    "plt.plot(history1.history[\"val_mae\"])"
   ]
  },
  {
   "cell_type": "code",
   "execution_count": 174,
   "metadata": {},
   "outputs": [
    {
     "data": {
      "text/plain": [
       "2.4456450939178467"
      ]
     },
     "execution_count": 174,
     "metadata": {},
     "output_type": "execute_result"
    }
   ],
   "source": [
    "history1.history[\"val_mae\"][6]"
   ]
  },
  {
   "attachments": {},
   "cell_type": "markdown",
   "metadata": {},
   "source": [
    "Altough the neural network performs better than the moving average and differencing, it cannot beat the naive method! \n",
    "\n",
    "Now, lets create the same model using the functional API just out of curiosity!"
   ]
  },
  {
   "cell_type": "code",
   "execution_count": 201,
   "metadata": {},
   "outputs": [
    {
     "name": "stdout",
     "output_type": "stream",
     "text": [
      "Epoch 1/20\n",
      "819/819 [==============================] - 16s 19ms/step - loss: 16.4489 - mae: 3.1452 - val_loss: 10.4920 - val_mae: 2.5307\n",
      "Epoch 2/20\n",
      "819/819 [==============================] - 16s 19ms/step - loss: 12.4525 - mae: 2.7832 - val_loss: 10.3578 - val_mae: 2.5060\n",
      "Epoch 3/20\n",
      "819/819 [==============================] - 16s 19ms/step - loss: 12.0554 - mae: 2.7374 - val_loss: 10.4335 - val_mae: 2.5137\n",
      "Epoch 4/20\n",
      "819/819 [==============================] - 16s 19ms/step - loss: 11.8876 - mae: 2.7202 - val_loss: 9.6592 - val_mae: 2.4287\n",
      "Epoch 5/20\n",
      "819/819 [==============================] - 16s 19ms/step - loss: 11.7921 - mae: 2.7084 - val_loss: 11.0884 - val_mae: 2.6302\n",
      "Epoch 6/20\n",
      "819/819 [==============================] - 16s 19ms/step - loss: 11.7133 - mae: 2.7002 - val_loss: 10.8118 - val_mae: 2.5955\n",
      "Epoch 7/20\n",
      "819/819 [==============================] - 15s 19ms/step - loss: 11.6639 - mae: 2.6929 - val_loss: 9.7428 - val_mae: 2.4299\n",
      "Epoch 8/20\n",
      "819/819 [==============================] - 15s 19ms/step - loss: 11.6628 - mae: 2.6929 - val_loss: 11.2592 - val_mae: 2.6542\n",
      "Epoch 9/20\n",
      "819/819 [==============================] - 16s 19ms/step - loss: 11.6434 - mae: 2.6906 - val_loss: 11.0624 - val_mae: 2.6275\n",
      "Epoch 10/20\n",
      "819/819 [==============================] - 15s 19ms/step - loss: 11.6183 - mae: 2.6874 - val_loss: 10.5441 - val_mae: 2.5271\n",
      "Epoch 11/20\n",
      "819/819 [==============================] - 16s 19ms/step - loss: 11.5736 - mae: 2.6823 - val_loss: 9.4464 - val_mae: 2.4006\n",
      "Epoch 12/20\n",
      "819/819 [==============================] - 16s 19ms/step - loss: 11.5881 - mae: 2.6834 - val_loss: 11.0687 - val_mae: 2.5916\n",
      "Epoch 13/20\n",
      "819/819 [==============================] - 16s 19ms/step - loss: 11.5951 - mae: 2.6844 - val_loss: 9.4198 - val_mae: 2.3954\n",
      "Epoch 14/20\n",
      "819/819 [==============================] - 16s 19ms/step - loss: 11.5789 - mae: 2.6821 - val_loss: 9.7370 - val_mae: 2.4286\n",
      "Epoch 15/20\n",
      "819/819 [==============================] - 16s 20ms/step - loss: 11.5570 - mae: 2.6784 - val_loss: 9.9711 - val_mae: 2.4805\n",
      "Epoch 16/20\n",
      "819/819 [==============================] - 16s 19ms/step - loss: 11.5545 - mae: 2.6798 - val_loss: 10.6701 - val_mae: 2.5769\n",
      "Epoch 17/20\n",
      "819/819 [==============================] - 16s 19ms/step - loss: 11.5437 - mae: 2.6780 - val_loss: 9.4449 - val_mae: 2.4030\n",
      "Epoch 18/20\n",
      "819/819 [==============================] - 16s 19ms/step - loss: 11.5612 - mae: 2.6800 - val_loss: 9.4824 - val_mae: 2.4088\n",
      "Epoch 19/20\n",
      "819/819 [==============================] - 16s 19ms/step - loss: 11.5226 - mae: 2.6761 - val_loss: 9.5883 - val_mae: 2.4253\n",
      "Epoch 20/20\n",
      "819/819 [==============================] - 16s 19ms/step - loss: 11.5377 - mae: 2.6769 - val_loss: 11.1377 - val_mae: 2.5998\n"
     ]
    }
   ],
   "source": [
    "inputs = keras.Input(shape=(sequence_length, 1), name=\"inputs\")\n",
    "flatten = keras.layers.Flatten()(inputs)\n",
    "outputs = keras.layers.Dense(1, name=\"outputs\")(flatten)\n",
    "model2 = keras.Model(inputs=inputs, outputs=outputs)\n",
    "model2.compile(optimizer=\"rmsprop\", loss={\"outputs\":\"mse\"}, metrics=[\"mae\"])\n",
    "history2 = model2.fit(t_train_dataset, validation_data=t_val_dataset, epochs=20)"
   ]
  },
  {
   "cell_type": "code",
   "execution_count": 202,
   "metadata": {},
   "outputs": [
    {
     "data": {
      "text/plain": [
       "[<matplotlib.lines.Line2D at 0x139a0d7f0>]"
      ]
     },
     "execution_count": 202,
     "metadata": {},
     "output_type": "execute_result"
    },
    {
     "data": {
      "image/png": "[encoded data removed]",
      "text/plain": [
       "<Figure size 640x480 with 1 Axes>"
      ]
     },
     "metadata": {},
     "output_type": "display_data"
    }
   ],
   "source": [
    "plt.plot(history2.history[\"val_mae\"])"
   ]
  },
  {
   "cell_type": "code",
   "execution_count": 204,
   "metadata": {},
   "outputs": [
    {
     "data": {
      "text/plain": [
       "[<matplotlib.lines.Line2D at 0x139af9490>]"
      ]
     },
     "execution_count": 204,
     "metadata": {},
     "output_type": "execute_result"
    },
    {
     "data": {
      "image/png": "[encoded data removed]",
      "text/plain": [
       "<Figure size 640x480 with 1 Axes>"
      ]
     },
     "metadata": {},
     "output_type": "display_data"
    }
   ],
   "source": [
    "w= model2.get_layer(\"outputs\").get_weights()\n",
    "plt.plot(w[0])"
   ]
  },
  {
   "cell_type": "code",
   "execution_count": 205,
   "metadata": {},
   "outputs": [
    {
     "name": "stdout",
     "output_type": "stream",
     "text": [
      "Epoch 1/20\n",
      "819/819 [==============================] - 16s 19ms/step - loss: 19.4981 - mae: 3.4655 - val_loss: 10.5786 - val_mae: 2.5328\n",
      "Epoch 2/20\n",
      "819/819 [==============================] - 15s 19ms/step - loss: 14.4422 - mae: 2.9983 - val_loss: 13.4361 - val_mae: 2.9102\n",
      "Epoch 3/20\n",
      "819/819 [==============================] - 16s 19ms/step - loss: 13.1579 - mae: 2.8658 - val_loss: 10.2161 - val_mae: 2.4906\n",
      "Epoch 4/20\n",
      "819/819 [==============================] - 16s 19ms/step - loss: 12.4619 - mae: 2.7889 - val_loss: 14.6798 - val_mae: 3.0136\n",
      "Epoch 5/20\n",
      "819/819 [==============================] - 16s 19ms/step - loss: 12.0948 - mae: 2.7473 - val_loss: 10.4888 - val_mae: 2.5479\n",
      "Epoch 6/20\n",
      "819/819 [==============================] - 15s 19ms/step - loss: 11.8243 - mae: 2.7147 - val_loss: 9.5908 - val_mae: 2.4200\n",
      "Epoch 7/20\n",
      "819/819 [==============================] - 15s 19ms/step - loss: 11.6322 - mae: 2.6927 - val_loss: 10.4052 - val_mae: 2.5405\n",
      "Epoch 8/20\n",
      "819/819 [==============================] - 15s 19ms/step - loss: 11.5509 - mae: 2.6814 - val_loss: 9.7283 - val_mae: 2.4453\n",
      "Epoch 9/20\n",
      "819/819 [==============================] - 15s 19ms/step - loss: 11.4790 - mae: 2.6748 - val_loss: 9.7962 - val_mae: 2.4393\n",
      "Epoch 10/20\n",
      "819/819 [==============================] - 15s 19ms/step - loss: 11.4236 - mae: 2.6676 - val_loss: 9.5326 - val_mae: 2.4168\n",
      "Epoch 11/20\n",
      "819/819 [==============================] - 16s 19ms/step - loss: 11.3792 - mae: 2.6609 - val_loss: 9.4516 - val_mae: 2.4038\n",
      "Epoch 12/20\n",
      "819/819 [==============================] - 16s 19ms/step - loss: 11.3490 - mae: 2.6570 - val_loss: 9.4670 - val_mae: 2.4076\n",
      "Epoch 13/20\n",
      "819/819 [==============================] - 16s 19ms/step - loss: 11.3160 - mae: 2.6540 - val_loss: 10.0292 - val_mae: 2.4665\n",
      "Epoch 14/20\n",
      "819/819 [==============================] - 16s 19ms/step - loss: 11.2969 - mae: 2.6513 - val_loss: 9.4409 - val_mae: 2.3986\n",
      "Epoch 15/20\n",
      "819/819 [==============================] - 16s 19ms/step - loss: 11.2789 - mae: 2.6487 - val_loss: 9.5028 - val_mae: 2.4139\n",
      "Epoch 16/20\n",
      "819/819 [==============================] - 16s 19ms/step - loss: 11.2452 - mae: 2.6460 - val_loss: 9.4020 - val_mae: 2.3951\n",
      "Epoch 17/20\n",
      "819/819 [==============================] - 16s 19ms/step - loss: 11.2297 - mae: 2.6439 - val_loss: 10.1496 - val_mae: 2.4761\n",
      "Epoch 18/20\n",
      "819/819 [==============================] - 16s 19ms/step - loss: 11.2211 - mae: 2.6419 - val_loss: 9.4068 - val_mae: 2.3982\n",
      "Epoch 19/20\n",
      "819/819 [==============================] - 16s 19ms/step - loss: 11.2086 - mae: 2.6404 - val_loss: 9.5210 - val_mae: 2.4175\n",
      "Epoch 20/20\n",
      "819/819 [==============================] - 16s 19ms/step - loss: 11.1884 - mae: 2.6374 - val_loss: 9.3792 - val_mae: 2.3908\n"
     ]
    }
   ],
   "source": [
    "inputs = keras.Input(shape=(sequence_length, 1), name=\"inputs\")\n",
    "flatten = keras.layers.Flatten()(inputs)\n",
    "x = keras.layers.Dense(16, name=\"x\")(flatten)\n",
    "outputs = keras.layers.Dense(1, name=\"outputs\")(x)\n",
    "model2 = keras.Model(inputs=inputs, outputs=outputs)\n",
    "model2.compile(optimizer=\"rmsprop\", loss={\"outputs\":\"mse\"}, metrics=[\"mae\"])\n",
    "history2 = model2.fit(t_train_dataset, validation_data=t_val_dataset, epochs=20)"
   ]
  },
  {
   "attachments": {},
   "cell_type": "markdown",
   "metadata": {},
   "source": [
    "In the next example. I also use the other 13 features. I hope, these features can help us predict the temperature more accurately."
   ]
  },
  {
   "cell_type": "code",
   "execution_count": 206,
   "metadata": {},
   "outputs": [
    {
     "data": {
      "text/plain": [
       "[<matplotlib.lines.Line2D at 0x139c4db80>]"
      ]
     },
     "execution_count": 206,
     "metadata": {},
     "output_type": "execute_result"
    },
    {
     "data": {
      "image/png": "[encoded data removed]",
      "text/plain": [
       "<Figure size 640x480 with 1 Axes>"
      ]
     },
     "metadata": {},
     "output_type": "display_data"
    }
   ],
   "source": [
    "plt.plot(history2.history[\"val_mae\"])"
   ]
  },
  {
   "cell_type": "code",
   "execution_count": 209,
   "metadata": {},
   "outputs": [
    {
     "name": "stdout",
     "output_type": "stream",
     "text": [
      "Model: \"model_13\"\n",
      "_________________________________________________________________\n",
      " Layer (type)                Output Shape              Param #   \n",
      "=================================================================\n",
      " inputs (InputLayer)         [(None, 120, 1)]          0         \n",
      "                                                                 \n",
      " flatten_15 (Flatten)        (None, 120)               0         \n",
      "                                                                 \n",
      " x (Dense)                   (None, 16)                1936      \n",
      "                                                                 \n",
      " outputs (Dense)             (None, 1)                 17        \n",
      "                                                                 \n",
      "=================================================================\n",
      "Total params: 1,953\n",
      "Trainable params: 1,953\n",
      "Non-trainable params: 0\n",
      "_________________________________________________________________\n"
     ]
    }
   ],
   "source": [
    "model2.summary()"
   ]
  },
  {
   "cell_type": "code",
   "execution_count": 146,
   "metadata": {},
   "outputs": [
    {
     "name": "stdout",
     "output_type": "stream",
     "text": [
      "819/819 [==============================] - 16s 19ms/step - loss: 1347.6230 - mae: 12.9673 - val_loss: 150.0854 - val_mae: 10.1646\n"
     ]
    }
   ],
   "source": [
    "model = keras.Sequential([\n",
    "    keras.layers.Input(shape=(sequence_length, raw_data.shape[-1])),\n",
    "    keras.layers.Flatten(),\n",
    "    keras.layers.Dense(16, activation=\"relu\"),\n",
    "    keras.layers.Dense(1)\n",
    "])\n",
    "model.compile(optimizer=\"rmsprop\", loss=\"mse\", metrics=[\"mae\"])\n",
    "history = model.fit(train_dataset, validation_data=val_dataset, epochs=1)"
   ]
  },
  {
   "cell_type": "code",
   "execution_count": null,
   "metadata": {},
   "outputs": [],
   "source": [
    "import matplotlib.pyplot as plt\n",
    "fig, axis = plt.subplots(1,1)\n",
    "axis.plot(np.arange(10), history.history[\"val_mae\"] , \"b\")\n",
    "axis.plot(np.arange(10), history.history[\"mae\"] , \"bo\")"
   ]
  },
  {
   "attachments": {},
   "cell_type": "markdown",
   "metadata": {},
   "source": [
    "In the following code, we create the same model using the functional API:"
   ]
  },
  {
   "cell_type": "code",
   "execution_count": null,
   "metadata": {},
   "outputs": [],
   "source": [
    "inputs = keras.Input(shape=(sequence_length, raw_data.shape[-1]), name=\"features\")\n",
    "x = keras.layers.Flatten()(inputs)\n",
    "x = keras.layers.Dense(16, activation=\"relu\")(x)\n",
    "outputs = keras.layers.Dense(1, name=\"temperature\")(x)\n",
    "model = keras.Model(inputs=inputs , outputs=outputs)\n",
    "model.compile(optimizer=\"rmsprop\" , loss={\"temperature\":\"mse\"}, metrics=[\"mae\"])\n",
    "history = model.fit(train_dataset, validation_data=val_dataset, epochs=10)"
   ]
  },
  {
   "cell_type": "code",
   "execution_count": null,
   "metadata": {},
   "outputs": [],
   "source": [
    "fig, axis = plt.subplots(1,1)\n",
    "axis.plot(np.arange(10), history.history[\"val_mae\"] , \"b\")\n",
    "axis.plot(np.arange(10), history.history[\"mae\"] , \"bo\")"
   ]
  },
  {
   "cell_type": "code",
   "execution_count": null,
   "metadata": {},
   "outputs": [],
   "source": [
    "model = keras.Sequential([\n",
    "    keras.layers.Input(shape=(sequence_length, raw_data.shape[-1])),\n",
    "    keras.layers.LSTM(16),\n",
    "    keras.layers.Dense(1)\n",
    "])\n",
    "model.compile(optimizer=\"rmsprop\", loss=\"mse\", metrics=[\"mae\"])\n",
    "history = model.fit(train_dataset, validation_data=val_dataset, epochs=10)"
   ]
  },
  {
   "cell_type": "code",
   "execution_count": null,
   "metadata": {},
   "outputs": [],
   "source": [
    "fig, axis = plt.subplots(1,1)\n",
    "axis.plot(np.arange(1,10), history.history[\"val_mae\"][1:] , \"b\")\n",
    "axis.plot(np.arange(1,10), history.history[\"mae\"][1:] , \"bo\")"
   ]
  },
  {
   "cell_type": "code",
   "execution_count": null,
   "metadata": {},
   "outputs": [],
   "source": [
    "inputs = keras.Input(shape=(sequence_length, raw_data.shape[-1]), name=\"features\")\n",
    "x = keras.layers.LSTM(16)(inputs)\n",
    "outputs = keras.layers.Dense(1, name=\"temperature\")(x)\n",
    "model = keras.Model(inputs=inputs , outputs=outputs)\n",
    "model.compile(optimizer=\"rmsprop\" , loss={\"temperature\":\"mse\"}, metrics=[\"mae\"])\n",
    "history = model.fit(train_dataset, validation_data=val_dataset, epochs=10)"
   ]
  }
 ],
 "metadata": {
  "kernelspec": {
   "display_name": ".nn-nb",
   "language": "python",
   "name": "python3"
  },
  "language_info": {
   "codemirror_mode": {
    "name": "ipython",
    "version": 3
   },
   "file_extension": ".py",
   "mimetype": "text/x-python",
   "name": "python",
   "nbconvert_exporter": "python",
   "pygments_lexer": "ipython3",
   "version": "3.9.6"
  },
  "orig_nbformat": 4,
  "vscode": {
   "interpreter": {
    "hash": "6a01f484bbe5ff7db30bde6dc76d21cf72867a81df06775fe6a282b1f2bc3b0d"
   }
  }
 },
 "nbformat": 4,
 "nbformat_minor": 2
}

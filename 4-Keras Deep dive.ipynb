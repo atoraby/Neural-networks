{
 "cells": [
  {
   "attachments": {},
   "cell_type": "markdown",
   "metadata": {},
   "source": [
    "# Keras: deep dive\n",
    "\n",
    "Different ways to build Keras models\n",
    "There are three APIs for building models in Keras:\n",
    "\n",
    "1. The Sequential model, the most approachable API—it’s basically a Python list. As such, it’s limited to simple stacks of layers.\n",
    "2. The Functional API, which focuses on graph-like model architectures. It rep- resents a nice mid-point between usability and flexibility, and as such, it’s the most commonly used model-building API.\n",
    "3. Model subclassing, a low-level option where you write everything yourself from scratch. This is ideal if you want full control over every little thing. However, you won’t get access to many built-in Keras features, and you will be more at risk of making mistakes."
   ]
  },
  {
   "attachments": {},
   "cell_type": "markdown",
   "metadata": {},
   "source": [
    "## The sequential model\n",
    "The simplest way to build a Keras model is to use the Sequential model, which you already know about.\n",
    "\n",
    "In this approach we simply pass the netwrok structur as a python list:"
   ]
  },
  {
   "cell_type": "code",
   "execution_count": null,
   "metadata": {
    "vscode": {
     "languageId": "plaintext"
    }
   },
   "outputs": [],
   "source": [
    "model1 = tf.keras.Sequential([\n",
    "    tf.keras.layers.Dense(64),\n",
    "    tf.keras.layers.Dense(10)\n",
    "])"
   ]
  },
  {
   "attachments": {},
   "cell_type": "markdown",
   "metadata": {},
   "source": [
    "It is also possible to use the add method to create the same model:"
   ]
  },
  {
   "cell_type": "code",
   "execution_count": null,
   "metadata": {
    "vscode": {
     "languageId": "plaintext"
    }
   },
   "outputs": [],
   "source": [
    "model2 = tf.keras.Sequential()\n",
    "model2.add(tf.keras.layers.Dense(64))\n",
    "model2.add(tf.keras.layers.Dense(10))"
   ]
  },
  {
   "attachments": {},
   "cell_type": "markdown",
   "metadata": {},
   "source": [
    "In the following code we use the summary method to print both models. However, we first need to Build the model first by calling `build()` or by calling the model on a batch of data:"
   ]
  },
  {
   "cell_type": "code",
   "execution_count": null,
   "metadata": {
    "vscode": {
     "languageId": "plaintext"
    }
   },
   "outputs": [],
   "source": [
    "model1.build(input_shape=(None,3))\n",
    "model2.build(input_shape=(None,3))"
   ]
  },
  {
   "attachments": {},
   "cell_type": "markdown",
   "metadata": {},
   "source": [
    "You can see that both models are equal, the only thing that differs is the name of the model:"
   ]
  },
  {
   "cell_type": "code",
   "execution_count": null,
   "metadata": {
    "vscode": {
     "languageId": "plaintext"
    }
   },
   "outputs": [],
   "source": [
    "print(model1.summary())\n",
    "print(model2.summary())"
   ]
  },
  {
   "attachments": {},
   "cell_type": "markdown",
   "metadata": {},
   "source": [
    "Despite, the weights are different because the model is always initialized with random weights."
   ]
  },
  {
   "cell_type": "code",
   "execution_count": null,
   "metadata": {
    "vscode": {
     "languageId": "plaintext"
    }
   },
   "outputs": [],
   "source": [
    "print(model1.weights[0][1])\n",
    "print(model2.weights[0][1])"
   ]
  },
  {
   "attachments": {},
   "cell_type": "markdown",
   "metadata": {},
   "source": [
    "We can also change the name of the model"
   ]
  },
  {
   "cell_type": "code",
   "execution_count": null,
   "metadata": {
    "vscode": {
     "languageId": "plaintext"
    }
   },
   "outputs": [],
   "source": [
    "model = tf.keras.Sequential(name=\"example_model\")\n",
    "model.add(tf.keras.layers.Dense(64))\n",
    "model.add(tf.keras.layers.Dense(10))\n",
    "model.build(input_shape=(None,3))\n",
    "model.summary()"
   ]
  },
  {
   "attachments": {},
   "cell_type": "markdown",
   "metadata": {},
   "source": [
    "Sometimes you need to get the summary of the model when you add the layers incrementally. In this scenario, you can set the input shape for the model so you do not need to build the model as it gets built on the fly:"
   ]
  },
  {
   "cell_type": "code",
   "execution_count": null,
   "metadata": {
    "vscode": {
     "languageId": "plaintext"
    }
   },
   "outputs": [],
   "source": [
    "model = tf.keras.Sequential(name=\"test_model\")\n",
    "model.add(tf.keras.Input(shape=(None,3)))\n",
    "model.add(tf.keras.layers.Dense(10))\n",
    "model.summary()"
   ]
  },
  {
   "attachments": {},
   "cell_type": "markdown",
   "metadata": {},
   "source": [
    "## The functional API\n",
    "\n",
    "The Sequential model is easy to use, but its applicability is extremely limited: it can only express models with a single input and a single output, applying one layer after the other in a sequential fashion. In practice, it’s pretty common to encounter models with multiple inputs (say, an image and its metadata), multiple outputs (different things you want to predict about the data), or a nonlinear topology.\n",
    "\n",
    "In such cases, you’d build your model using the Functional API. This is what most Keras models you’ll encounter in the wild use. It’s fun and powerful. it feels like playing with LEGO bricks."
   ]
  },
  {
   "attachments": {},
   "cell_type": "markdown",
   "metadata": {},
   "source": [
    "First, we create a single inpu, single output model similar to that last one we created to understand the functional API:"
   ]
  },
  {
   "cell_type": "code",
   "execution_count": null,
   "metadata": {
    "vscode": {
     "languageId": "plaintext"
    }
   },
   "outputs": [],
   "source": [
    "inputs = tf.keras.Input(shape=(3,))\n",
    "features = tf.keras.layers.Dense(64)(inputs)\n",
    "outputs = tf.keras.layers.Dense(10)(features)\n",
    "model = tf.keras.Model(inputs=inputs , outputs=outputs)\n",
    "model.summary()"
   ]
  },
  {
   "attachments": {},
   "cell_type": "markdown",
   "metadata": {},
   "source": [
    "Now, we use this functional API to create a multi input, multi output model:"
   ]
  },
  {
   "cell_type": "code",
   "execution_count": null,
   "metadata": {
    "vscode": {
     "languageId": "plaintext"
    }
   },
   "outputs": [],
   "source": [
    "import pandas as pd\n",
    "df = pd.read_csv(\"./files/AllThrillerSeriesList.csv\")\n",
    "df"
   ]
  },
  {
   "cell_type": "code",
   "execution_count": null,
   "metadata": {
    "vscode": {
     "languageId": "plaintext"
    }
   },
   "outputs": [],
   "source": [
    "def convert(str):\n",
    "    return float(str)\n",
    "ratings = df[\"Ratings\"].apply(convert)"
   ]
  },
  {
   "cell_type": "code",
   "execution_count": null,
   "metadata": {
    "vscode": {
     "languageId": "plaintext"
    }
   },
   "outputs": [],
   "source": [
    "x = df[\"Year\"].apply(lambda value: value.split(\"–\"))"
   ]
  },
  {
   "cell_type": "code",
   "execution_count": null,
   "metadata": {
    "vscode": {
     "languageId": "plaintext"
    }
   },
   "outputs": [],
   "source": [
    "start_year = []\n",
    "years = []\n",
    "for index, item in enumerate(x):\n",
    "    try:\n",
    "        start_year.append(int(item[0]))\n",
    "    except:\n",
    "        start_year.append(2000)\n",
    "    if len(item)==2:\n",
    "        try:\n",
    "            years.append(int(item[1]) - int(item[0]))\n",
    "        except:\n",
    "            years.append(0)    \n",
    "    else:\n",
    "        years.append(0)"
   ]
  },
  {
   "cell_type": "code",
   "execution_count": null,
   "metadata": {
    "vscode": {
     "languageId": "plaintext"
    }
   },
   "outputs": [],
   "source": [
    "df[\"Votes\"] = df[\"Votes\"].apply(lambda x: int(x.replace(\",\",\"\")))"
   ]
  },
  {
   "cell_type": "code",
   "execution_count": null,
   "metadata": {
    "vscode": {
     "languageId": "plaintext"
    }
   },
   "outputs": [],
   "source": [
    "mean = df[\"Votes\"].mean()\n",
    "print(mean)\n",
    "popularity_labels = []\n",
    "for v in df[\"Votes\"]:\n",
    "    if v > mean:\n",
    "        popularity_labels.append(1)\n",
    "    else:\n",
    "        popularity_labels.append(0)\n"
   ]
  },
  {
   "cell_type": "code",
   "execution_count": null,
   "metadata": {
    "vscode": {
     "languageId": "plaintext"
    }
   },
   "outputs": [],
   "source": [
    "def create_dict(data):\n",
    "    values = data.apply(lambda g: g.split(\",\"))\n",
    "    dictionary = {}\n",
    "    index = 0\n",
    "    for item in values:\n",
    "        for g in item:\n",
    "            g = g.strip()\n",
    "            if dictionary.get(g, None) == None:\n",
    "                dictionary[g] = index\n",
    "                index = index + 1\n",
    "    return dictionary"
   ]
  },
  {
   "cell_type": "code",
   "execution_count": null,
   "metadata": {
    "vscode": {
     "languageId": "plaintext"
    }
   },
   "outputs": [],
   "source": [
    "genres_dict = create_dict(df[\"Genre\"])\n",
    "genres_dict"
   ]
  },
  {
   "cell_type": "code",
   "execution_count": null,
   "metadata": {
    "vscode": {
     "languageId": "plaintext"
    }
   },
   "outputs": [],
   "source": [
    "def one_hot(data, dictionary, split = \",\"):\n",
    "    rows = data.apply(lambda g: g.split(split))\n",
    "    output = np.zeros([len(rows), len(dictionary)])\n",
    "    for index, row in enumerate(rows):\n",
    "        for key in row:\n",
    "            key = key.strip()\n",
    "            if dictionary.get(key, None) != None:\n",
    "                output[index,dictionary[key]] = 1\n",
    "    return output"
   ]
  },
  {
   "cell_type": "code",
   "execution_count": null,
   "metadata": {
    "vscode": {
     "languageId": "plaintext"
    }
   },
   "outputs": [],
   "source": [
    "genres_encoded = one_hot(df[\"Genre\"],genres_dict,\",\")\n",
    "print(genres_encoded.shape)\n",
    "genres_encoded"
   ]
  },
  {
   "cell_type": "code",
   "execution_count": null,
   "metadata": {
    "vscode": {
     "languageId": "plaintext"
    }
   },
   "outputs": [],
   "source": [
    "actors_dict = create_dict(df[\"Actor/Actress\"])\n",
    "actors_dict"
   ]
  },
  {
   "cell_type": "code",
   "execution_count": null,
   "metadata": {
    "vscode": {
     "languageId": "plaintext"
    }
   },
   "outputs": [],
   "source": [
    "actors_encoded = one_hot(df[\"Actor/Actress\"], actors_dict , \",\")\n",
    "print(actors_encoded.shape)\n",
    "actors_encoded"
   ]
  },
  {
   "cell_type": "code",
   "execution_count": null,
   "metadata": {
    "vscode": {
     "languageId": "plaintext"
    }
   },
   "outputs": [],
   "source": [
    "year_duration = tf.keras.Input(shape=(2), name=\"year_duration\")\n",
    "genre = tf.keras.Input(shape=(24,), name=\"genre\")\n",
    "actors = tf.keras.Input(shape=(10827,), name=\"actors\")\n",
    "\n",
    "features = tf.keras.layers.Concatenate()([year_duration , genre , actors])\n",
    "features = tf.keras.layers.Dense(256,activation=\"relu\")(features)\n",
    "features = tf.keras.layers.Dense(256,activation=\"relu\")(features)\n",
    "features = tf.keras.layers.Dense(64,activation=\"relu\")(features)\n",
    "\n",
    "popularity = tf.keras.layers.Dense(1, activation=\"softmax\" , name=\"popularity\")(features)\n",
    "rating = tf.keras.layers.Dense(1, activation=\"sigmoid\" , name=\"rating\")(features)\n",
    "\n",
    "model = tf.keras.Model(inputs = [year_duration , genre , actors] , outputs=[popularity , rating])\n"
   ]
  },
  {
   "cell_type": "code",
   "execution_count": null,
   "metadata": {
    "vscode": {
     "languageId": "plaintext"
    }
   },
   "outputs": [],
   "source": [
    "model.summary()"
   ]
  },
  {
   "cell_type": "code",
   "execution_count": null,
   "metadata": {
    "vscode": {
     "languageId": "plaintext"
    }
   },
   "outputs": [],
   "source": [
    "model.layers"
   ]
  },
  {
   "cell_type": "code",
   "execution_count": null,
   "metadata": {
    "vscode": {
     "languageId": "plaintext"
    }
   },
   "outputs": [],
   "source": [
    "model.compile(optimizer=\"rmsprop\", loss={\"rating\": \"mean_squared_error\" , \"popularity\" : \"categorical_crossentropy\"}\n",
    " ,metrics={\"rating\": [\"mean_absolute_error\"], \"popularity\": [\"accuracy\"]})"
   ]
  },
  {
   "cell_type": "code",
   "execution_count": null,
   "metadata": {
    "vscode": {
     "languageId": "plaintext"
    }
   },
   "outputs": [],
   "source": [
    "model.fit({\"year_duration\": np.array([start_year , years]).T , \"genre\": genres_encoded,\n",
    "           \"actors\": actors_encoded},\n",
    "          {\"popularity\": np.array(popularity_labels), \"rating\": np.array(ratings)},\n",
    "          epochs=10)"
   ]
  },
  {
   "attachments": {},
   "cell_type": "markdown",
   "metadata": {},
   "source": [
    "## Subclassing the Model class"
   ]
  },
  {
   "attachments": {},
   "cell_type": "markdown",
   "metadata": {},
   "source": [
    "## Custom metrics\n",
    "\n"
   ]
  },
  {
   "attachments": {},
   "cell_type": "markdown",
   "metadata": {},
   "source": [
    "## Using callbacks\n",
    "Here are some examples of ways you can use callbacks:\n",
    "* Model checkpointing—Saving the current state of the model at different points during training.\n",
    "* Early stopping—Interrupting training when the validation loss is no longer improving (and of course, saving the best model obtained during training).\n",
    "* Dynamically adjusting the value of certain parameters during training—Such as the learning rate of the optimizer.\n",
    "* Logging training and validation metrics during training, or visualizing the representa- tions learned by the model as they’re updated—The fit() progress bar that you’re familiar with is in fact a callback!\n",
    "\n",
    "### Builtin callbacks\n",
    "\n",
    "keras.callbacks.ModelCheckpoint\n",
    "keras.callbacks.EarlyStopping\n",
    "keras.callbacks.LearningRateScheduler\n",
    "keras.callbacks.ReduceLROnPlateau\n",
    "keras.callbacks.CSVLogger\n",
    "\n",
    "### custom callbacks\n",
    "\n",
    "Callbacks are implemented by sub- classing the keras.callbacks.Callback"
   ]
  }
 ],
 "metadata": {
  "language_info": {
   "name": "python"
  },
  "orig_nbformat": 4
 },
 "nbformat": 4,
 "nbformat_minor": 2
}
